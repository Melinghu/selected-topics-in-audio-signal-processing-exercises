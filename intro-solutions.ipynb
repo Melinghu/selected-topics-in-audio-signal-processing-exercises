{
 "metadata": {
  "name": "",
  "signature": "sha256:b77dc0a329808913c3d0f26020f96c2d62c090f283e72887dc98ab2888558edf"
 },
 "nbformat": 3,
 "nbformat_minor": 0,
 "worksheets": [
  {
   "cells": [
    {
     "cell_type": "markdown",
     "metadata": {},
     "source": [
      "[exercises](intro.ipynb)"
     ]
    },
    {
     "cell_type": "code",
     "collapsed": false,
     "input": [
      "import numpy as np"
     ],
     "language": "python",
     "metadata": {},
     "outputs": [],
     "prompt_number": 1
    },
    {
     "cell_type": "code",
     "collapsed": false,
     "input": [
      "np.arange(6)"
     ],
     "language": "python",
     "metadata": {},
     "outputs": [
      {
       "metadata": {},
       "output_type": "pyout",
       "prompt_number": 2,
       "text": [
        "array([0, 1, 2, 3, 4, 5])"
       ]
      }
     ],
     "prompt_number": 2
    },
    {
     "cell_type": "code",
     "collapsed": false,
     "input": [
      "np.arange(0, 0.6, 0.1), np.arange(6) * 0.1  # two possibilities"
     ],
     "language": "python",
     "metadata": {},
     "outputs": [
      {
       "metadata": {},
       "output_type": "pyout",
       "prompt_number": 3,
       "text": [
        "(array([ 0. ,  0.1,  0.2,  0.3,  0.4,  0.5]),\n",
        " array([ 0. ,  0.1,  0.2,  0.3,  0.4,  0.5]))"
       ]
      }
     ],
     "prompt_number": 3
    },
    {
     "cell_type": "code",
     "collapsed": false,
     "input": [
      "np.arange(0.5, 1.1, 0.1), \"<-- wrong result!\""
     ],
     "language": "python",
     "metadata": {},
     "outputs": [
      {
       "metadata": {},
       "output_type": "pyout",
       "prompt_number": 4,
       "text": [
        "(array([ 0.5,  0.6,  0.7,  0.8,  0.9,  1. ,  1.1]), '<-- wrong result!')"
       ]
      }
     ],
     "prompt_number": 4
    },
    {
     "cell_type": "code",
     "collapsed": false,
     "input": [
      "np.arange(5, 11) * 0.1  # that's right!"
     ],
     "language": "python",
     "metadata": {},
     "outputs": [
      {
       "metadata": {},
       "output_type": "pyout",
       "prompt_number": 5,
       "text": [
        "array([ 0.5,  0.6,  0.7,  0.8,  0.9,  1. ])"
       ]
      }
     ],
     "prompt_number": 5
    },
    {
     "cell_type": "code",
     "collapsed": false,
     "input": [
      "np.linspace(0, 6, 7)"
     ],
     "language": "python",
     "metadata": {},
     "outputs": [
      {
       "metadata": {},
       "output_type": "pyout",
       "prompt_number": 6,
       "text": [
        "array([ 0.,  1.,  2.,  3.,  4.,  5.,  6.])"
       ]
      }
     ],
     "prompt_number": 6
    },
    {
     "cell_type": "code",
     "collapsed": false,
     "input": [
      "np.linspace(0, 6, 6, endpoint=False), np.linspace(0, 5, 6)  # two possibilities"
     ],
     "language": "python",
     "metadata": {},
     "outputs": [
      {
       "metadata": {},
       "output_type": "pyout",
       "prompt_number": 7,
       "text": [
        "(array([ 0.,  1.,  2.,  3.,  4.,  5.]), array([ 0.,  1.,  2.,  3.,  4.,  5.]))"
       ]
      }
     ],
     "prompt_number": 7
    },
    {
     "cell_type": "code",
     "collapsed": false,
     "input": [
      "np.linspace(0, 0.6, 6, endpoint=False), np.linspace(0, 0.5, 6)  # again two possibilities"
     ],
     "language": "python",
     "metadata": {},
     "outputs": [
      {
       "metadata": {},
       "output_type": "pyout",
       "prompt_number": 8,
       "text": [
        "(array([ 0. ,  0.1,  0.2,  0.3,  0.4,  0.5]),\n",
        " array([ 0. ,  0.1,  0.2,  0.3,  0.4,  0.5]))"
       ]
      }
     ],
     "prompt_number": 8
    },
    {
     "cell_type": "code",
     "collapsed": false,
     "input": [
      "np.linspace(0.5, 1.1, 6, endpoint=False), np.linspace(0.5, 1, 6)  # and again ..."
     ],
     "language": "python",
     "metadata": {},
     "outputs": [
      {
       "metadata": {},
       "output_type": "pyout",
       "prompt_number": 9,
       "text": [
        "(array([ 0.5,  0.6,  0.7,  0.8,  0.9,  1. ]),\n",
        " array([ 0.5,  0.6,  0.7,  0.8,  0.9,  1. ]))"
       ]
      }
     ],
     "prompt_number": 9
    },
    {
     "cell_type": "markdown",
     "metadata": {},
     "source": [
      "If the number of elements is known and the step size should be obtained automatically: `np.linspace()`  \n",
      "If the step size is known an if it's an integer and the number of elements should be obtained automatically: `np.arange()`\n",
      "\n",
      "If the step size is not an integer:\n",
      "\n",
      "* If the step size is a fraction of integers, you can use `np.arange()` with integers and divide the result accordingly.\n",
      "\n",
      "* If that's not feasible, calculate the expected number of elements beforehand and use `np.linspace()`"
     ]
    },
    {
     "cell_type": "code",
     "collapsed": false,
     "input": [
      "dur, amp, freq, fs = 1, 0.3, 500, 44100\n",
      "t = np.arange(np.ceil(dur * fs)) / fs\n",
      "y = amp * np.sin(2 * np.pi * freq * t)"
     ],
     "language": "python",
     "metadata": {},
     "outputs": [],
     "prompt_number": 10
    },
    {
     "cell_type": "markdown",
     "metadata": {},
     "source": [
      "alternative (but inferior) methods to get $t$:"
     ]
    },
    {
     "cell_type": "code",
     "collapsed": false,
     "input": [
      "t = np.arange(0, dur, 1/fs)  # implicit rounding of dur!\n",
      "t = np.arange(0, np.round(dur), 1/fs)  # still problematic: arange with floats\n",
      "# wrong if dur isn't an integer multiple of 1/fs:\n",
      "t = np.linspace(0, dur, np.round(dur * fs), endpoint=False)"
     ],
     "language": "python",
     "metadata": {},
     "outputs": [],
     "prompt_number": 11
    },
    {
     "cell_type": "markdown",
     "metadata": {},
     "source": [
      "Length of `y` must be *exactly* 44100 (using a half-open interval for $t$), not 44101 (which would be longer than 1 second)."
     ]
    },
    {
     "cell_type": "markdown",
     "metadata": {},
     "source": [
      "Difference between `len()`, `a.shape` and `a.size`: see documentation!"
     ]
    },
    {
     "cell_type": "markdown",
     "metadata": {},
     "source": [
      "Plotting: 2 ways to zoom (there are probably more): draw a rectangle, drag with the right mouse button in pan/zoom mode."
     ]
    },
    {
     "cell_type": "markdown",
     "metadata": {},
     "source": [
      "Clicks? Because of discontinuities (also in the derivatives) $\\Rightarrow$ Fade in/out!"
     ]
    },
    {
     "cell_type": "code",
     "collapsed": false,
     "input": [
      "import numpy as np\n",
      "\n",
      "def mysine(frequency, amplitude, duration, samplerate):\n",
      "    \"\"\"Generate sine tone with given frequency/amplitude/duration.\"\"\"\n",
      "    t = np.arange(np.ceil(duration * samplerate)) / samplerate\n",
      "    return amplitude * np.sin(2 * np.pi * frequency * t)"
     ],
     "language": "python",
     "metadata": {},
     "outputs": [],
     "prompt_number": 12
    },
    {
     "cell_type": "code",
     "collapsed": false,
     "input": [
      "import matplotlib.pyplot as plt\n",
      "\n",
      "def myplot(data, samplerate):\n",
      "    t = np.arange(len(data)) / samplerate\n",
      "    plt.plot(t, data)\n",
      "    plt.xlabel(\"Time / Seconds\")"
     ],
     "language": "python",
     "metadata": {},
     "outputs": [],
     "prompt_number": 13
    },
    {
     "cell_type": "code",
     "collapsed": false,
     "input": [
      "fs = 44100\n",
      "amplitude = 0.3\n",
      "duration = 1\n",
      "frequencies = 400, 500, 600\n",
      "\n",
      "import soundfile as sf\n",
      "\n",
      "for freq in frequencies:\n",
      "    sig = mysine(freq, amplitude, duration, fs)\n",
      "    sf.write(sig, \"sine_{}hz.wav\".format(freq), fs)"
     ],
     "language": "python",
     "metadata": {},
     "outputs": [],
     "prompt_number": 14
    },
    {
     "cell_type": "markdown",
     "metadata": {},
     "source": [
      "2 sweeps: TODO"
     ]
    },
    {
     "cell_type": "markdown",
     "metadata": {},
     "source": [
      "superposition: TODO\n",
      "\n",
      "<http://en.wikipedia.org/wiki/Beat_(acoustics)>"
     ]
    },
    {
     "cell_type": "markdown",
     "metadata": {},
     "source": [
      "two-channel sine signals: TODO\n",
      "\n",
      "The first column should be the left channel!"
     ]
    },
    {
     "cell_type": "code",
     "collapsed": false,
     "input": [
      "import numpy as np\n",
      "import pysoundcard as sc\n",
      "\n",
      "dur, amp, fs = 1, 0.3, 44100\n",
      "frequencies = 500, 1000, 2000  # Hz\n",
      "delays = 0.6, 0.4, 0.2, 0, -0.2, -0.4, -0.6  # ms\n",
      "\n",
      "t = np.arange(np.ceil(dur * fs)) / fs\n",
      "\n",
      "for f in frequencies:\n",
      "    for delay in delays:\n",
      "        times = np.column_stack((t, t - delay/1000))\n",
      "        sig = amp * np.sin(2 * np.pi * f * times)\n",
      "        sc.play(sig, blocking=True)"
     ],
     "language": "python",
     "metadata": {},
     "outputs": [],
     "prompt_number": 15
    },
    {
     "cell_type": "markdown",
     "metadata": {},
     "source": [
      "This is supposed to illustrate [Lord Rayleigh's Duplex Theory](http://en.wikipedia.org/wiki/Interaural_time_difference#Duplex_theory) (at least the part about time differences)."
     ]
    },
    {
     "cell_type": "markdown",
     "metadata": {},
     "source": [
      "<p xmlns:dct=\"http://purl.org/dc/terms/\">\n",
      "  <a rel=\"license\"\n",
      "     href=\"http://creativecommons.org/publicdomain/zero/1.0/\">\n",
      "    <img src=\"http://i.creativecommons.org/p/zero/1.0/88x31.png\" style=\"border-style: none;\" alt=\"CC0\" />\n",
      "  </a>\n",
      "  <br />\n",
      "  To the extent possible under law,\n",
      "  <span rel=\"dct:publisher\" resource=\"[_:publisher]\">the person who associated CC0</span>\n",
      "  with this work has waived all copyright and related or neighboring\n",
      "  rights to this work.\n",
      "</p>"
     ]
    }
   ],
   "metadata": {}
  }
 ]
}