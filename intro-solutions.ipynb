{
 "metadata": {
  "name": "",
  "signature": "sha256:fafed11f06457d4aa3a12bc88ec8764f530cda7b9ce1a067b4637e6a1e616ff7"
 },
 "nbformat": 3,
 "nbformat_minor": 0,
 "worksheets": [
  {
   "cells": [
    {
     "cell_type": "markdown",
     "metadata": {},
     "source": [
      "[exercises](intro.ipynb)"
     ]
    },
    {
     "cell_type": "code",
     "collapsed": false,
     "input": [
      "import numpy as np"
     ],
     "language": "python",
     "metadata": {},
     "outputs": [],
     "prompt_number": 1
    },
    {
     "cell_type": "code",
     "collapsed": false,
     "input": [
      "np.arange(6)"
     ],
     "language": "python",
     "metadata": {},
     "outputs": [
      {
       "metadata": {},
       "output_type": "pyout",
       "prompt_number": 2,
       "text": [
        "array([0, 1, 2, 3, 4, 5])"
       ]
      }
     ],
     "prompt_number": 2
    },
    {
     "cell_type": "code",
     "collapsed": false,
     "input": [
      "np.arange(0, 0.6, 0.1), np.arange(6) * 0.1  # two possibilities"
     ],
     "language": "python",
     "metadata": {},
     "outputs": [
      {
       "metadata": {},
       "output_type": "pyout",
       "prompt_number": 3,
       "text": [
        "(array([ 0. ,  0.1,  0.2,  0.3,  0.4,  0.5]),\n",
        " array([ 0. ,  0.1,  0.2,  0.3,  0.4,  0.5]))"
       ]
      }
     ],
     "prompt_number": 3
    },
    {
     "cell_type": "code",
     "collapsed": false,
     "input": [
      "np.arange(0.5, 1.1, 0.1), \"<-- wrong result!\""
     ],
     "language": "python",
     "metadata": {},
     "outputs": [
      {
       "metadata": {},
       "output_type": "pyout",
       "prompt_number": 4,
       "text": [
        "(array([ 0.5,  0.6,  0.7,  0.8,  0.9,  1. ,  1.1]), '<-- wrong result!')"
       ]
      }
     ],
     "prompt_number": 4
    },
    {
     "cell_type": "code",
     "collapsed": false,
     "input": [
      "np.arange(5, 11) * 0.1  # that's right!"
     ],
     "language": "python",
     "metadata": {},
     "outputs": [
      {
       "metadata": {},
       "output_type": "pyout",
       "prompt_number": 5,
       "text": [
        "array([ 0.5,  0.6,  0.7,  0.8,  0.9,  1. ])"
       ]
      }
     ],
     "prompt_number": 5
    },
    {
     "cell_type": "code",
     "collapsed": false,
     "input": [
      "np.linspace(0, 6, 7)"
     ],
     "language": "python",
     "metadata": {},
     "outputs": [
      {
       "metadata": {},
       "output_type": "pyout",
       "prompt_number": 6,
       "text": [
        "array([ 0.,  1.,  2.,  3.,  4.,  5.,  6.])"
       ]
      }
     ],
     "prompt_number": 6
    },
    {
     "cell_type": "code",
     "collapsed": false,
     "input": [
      "np.linspace(0, 6, 6, endpoint=False), np.linspace(0, 5, 6)  # two possibilities"
     ],
     "language": "python",
     "metadata": {},
     "outputs": [
      {
       "metadata": {},
       "output_type": "pyout",
       "prompt_number": 7,
       "text": [
        "(array([ 0.,  1.,  2.,  3.,  4.,  5.]), array([ 0.,  1.,  2.,  3.,  4.,  5.]))"
       ]
      }
     ],
     "prompt_number": 7
    },
    {
     "cell_type": "code",
     "collapsed": false,
     "input": [
      "np.linspace(0, 0.6, 6, endpoint=False), np.linspace(0, 0.5, 6)  # again two possibilities"
     ],
     "language": "python",
     "metadata": {},
     "outputs": [
      {
       "metadata": {},
       "output_type": "pyout",
       "prompt_number": 8,
       "text": [
        "(array([ 0. ,  0.1,  0.2,  0.3,  0.4,  0.5]),\n",
        " array([ 0. ,  0.1,  0.2,  0.3,  0.4,  0.5]))"
       ]
      }
     ],
     "prompt_number": 8
    },
    {
     "cell_type": "code",
     "collapsed": false,
     "input": [
      "np.linspace(0.5, 1.1, 6, endpoint=False), np.linspace(0.5, 1, 6)  # and again ..."
     ],
     "language": "python",
     "metadata": {},
     "outputs": [
      {
       "metadata": {},
       "output_type": "pyout",
       "prompt_number": 9,
       "text": [
        "(array([ 0.5,  0.6,  0.7,  0.8,  0.9,  1. ]),\n",
        " array([ 0.5,  0.6,  0.7,  0.8,  0.9,  1. ]))"
       ]
      }
     ],
     "prompt_number": 9
    },
    {
     "cell_type": "markdown",
     "metadata": {},
     "source": [
      "If the number of elements is known and the step size should be obtained automatically: `np.linspace()`  \n",
      "If the step size is known an if it's an integer and the number of elements should be obtained automatically: `np.arange()`  \n",
      "If the step size is not an integer:\n",
      "* If the step size is a fraction of integers, you can use `np.arange()` with integers and divide the result accordingly.\n",
      "* If that's not feasible, calculate the expected number of elements beforehand and use `np.linspace()`"
     ]
    },
    {
     "cell_type": "code",
     "collapsed": false,
     "input": [
      "dur, freq, fs = 1, 500, 44100\n",
      "t = np.arange(np.ceil(dur * fs)) / fs\n",
      "y = np.sin(2 * np.pi * freq * t)"
     ],
     "language": "python",
     "metadata": {},
     "outputs": [],
     "prompt_number": 10
    },
    {
     "cell_type": "markdown",
     "metadata": {},
     "source": [
      "alternative (but inferior) methods to get $t$:"
     ]
    },
    {
     "cell_type": "code",
     "collapsed": false,
     "input": [
      "t = np.arange(0, dur, 1/fs)  # implicit rounding of dur!\n",
      "t = np.arange(0, np.round(dur), 1/fs)  # still problematic: arange with floats\n",
      "# wrong if dur isn't an integer multiple of 1/fs:\n",
      "t = np.linspace(0, dur, np.round(dur * fs), endpoint=False)"
     ],
     "language": "python",
     "metadata": {},
     "outputs": [],
     "prompt_number": 11
    },
    {
     "cell_type": "markdown",
     "metadata": {},
     "source": [
      "Length of `y` must be *exactly* 44100 (using a half-open interval for $t$), not 44101 (which would be longer than 1 second)."
     ]
    },
    {
     "cell_type": "code",
     "collapsed": false,
     "input": [],
     "language": "python",
     "metadata": {},
     "outputs": []
    },
    {
     "cell_type": "markdown",
     "metadata": {},
     "source": [
      "<p xmlns:dct=\"http://purl.org/dc/terms/\">\n",
      "  <a rel=\"license\"\n",
      "     href=\"http://creativecommons.org/publicdomain/zero/1.0/\">\n",
      "    <img src=\"http://i.creativecommons.org/p/zero/1.0/88x31.png\" style=\"border-style: none;\" alt=\"CC0\" />\n",
      "  </a>\n",
      "  <br />\n",
      "  To the extent possible under law,\n",
      "  <span rel=\"dct:publisher\" resource=\"[_:publisher]\">the person who associated CC0</span>\n",
      "  with this work has waived all copyright and related or neighboring\n",
      "  rights to this work.\n",
      "</p>"
     ]
    }
   ],
   "metadata": {}
  }
 ]
}