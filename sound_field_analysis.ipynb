{
 "cells": [
  {
   "cell_type": "markdown",
   "metadata": {},
   "source": [
    "# Sound Field Analysis\n",
    "\n",
    "[return to main page](index.ipynb)\n",
    "\n",
    "## Preparations"
   ]
  },
  {
   "cell_type": "code",
   "execution_count": null,
   "metadata": {
    "collapsed": false
   },
   "outputs": [],
   "source": [
    "import tools\n",
    "import numpy as np\n",
    "import sounddevice as sd  # for playback\n",
    "import soundfile as sf  # for reading a soundfile\n",
    "from scipy import signal\n",
    "\n",
    "# remove \"inline\" to get a separate plotting window:\n",
    "%matplotlib inline  \n",
    "import matplotlib.pyplot as plt"
   ]
  },
  {
   "cell_type": "markdown",
   "metadata": {},
   "source": [
    "# Linear Microphone Arrays\n",
    "\n",
    "## Delay-and-Sum Beamformer\n",
    "\n",
    "### Repetition: Spatial-Temporal Fourier Transform of a Plane Wave\n",
    "\n",
    "We already got to know the temporal spectrum of a [plane wave](physics_of_sound_I-solutions.ipynb#Plane-Wave) with a direction of propagation $\\mathbf n_{\\mathrm {pw}}$ which reads\n",
    "\n",
    "$$P_{pw}(\\mathbf x, \\omega) = \\mathrm{exp}\\left(-j\\frac{\\omega}{c} \\mathbf n_{\\mathrm {pw}} \\cdot \\mathbf x \\right) = \\mathrm{exp}\\left(-j\\frac{\\omega}{c} (n_{\\mathrm {pw},x} \\cdot x + n_{\\mathrm {pw},y} \\cdot y + n_{\\mathrm {pw},z} \\cdot z) \\right) \\,. $$\n",
    "\n",
    "As we already have the temporal spectrum of the plane wave we only need to calculate the three integral we respect to the space dimensions:\n",
    "\n",
    "$$ \\tilde P_{pw}(\\mathbf k, \\omega) = \\int_{-\\infty}^{\\infty} \\int_{-\\infty}^{\\infty} \\int_{-\\infty}^{\\infty} P_{pw}(\\mathbf x, \\omega) e^{+jk_x x} e^{+jk_y y} e^{+jk_z z} \\,\\mathrm d x\\,\\mathrm d y\\,\\mathrm d z\n",
    "$$\n",
    "\n",
    "Inserting the spectrum of the plane wave\n",
    "$$\n",
    "\\tilde P_{pw}(\\mathbf k, \\omega) = \\int_{-\\infty}^{\\infty} \\int_{-\\infty}^{\\infty} \\int_{-\\infty}^{\\infty} e^{-j\\frac{\\omega}{c} (n_{\\mathrm {pw},x} \\cdot x + n_{\\mathrm {pw},y} \\cdot y + n_{\\mathrm {pw},z} \\cdot z)} e^{+jk_x x} e^{+jk_y y} e^{+jk_z z} \\,\\mathrm d x\\,\\mathrm d y\\,\\mathrm d z\n",
    "$$\n",
    "\n",
    "Splitting up the exponentials and re-arranging the integrals yields\n",
    "\n",
    "$$\n",
    "\\tilde P_{pw}(\\mathbf k, \\omega) = \n",
    "    \\int_{-\\infty}^{\\infty} \\mathrm{exp}\\left(+j\\left[k_x-\\frac{\\omega}{c} n_{\\mathrm {pw},x}\\right]x\\right) \\,\\mathrm d x \\cdot\n",
    "    \\int_{-\\infty}^{\\infty} \\mathrm{exp}\\left(+j\\left[k_y-\\frac{\\omega}{c} n_{\\mathrm {pw},y}\\right]y\\right) \\,\\mathrm d y \\cdot\n",
    "    \\int_{-\\infty}^{\\infty} \\mathrm{exp}\\left(+j\\left[k_z-\\frac{\\omega}{c} n_{\\mathrm {pw},z}\\right]z\\right) \\,\\mathrm d z\n",
    "$$\n",
    "\n",
    "Using the integral indentity\n",
    "\n",
    "$$ \\int_{-\\infty}^{\\infty} e^{+j a b}\\,\\mathrm d b\n",
    "    = \\int_{-\\infty}^{\\infty} \\mathrm{exp}\\left(+j a b\\right)\\,\\mathrm d b \n",
    "    = 2\\pi \\delta(a) \n",
    "$$\n",
    "\n",
    "for each of the integrals yields\n",
    "\n",
    "$$\n",
    "\\tilde P_{pw}(\\mathbf k, \\omega) = \n",
    "    2\\pi \\delta\\left(k_x-\\frac{\\omega}{c} n_{\\mathrm {pw},x}\\right) \\cdot\n",
    "    2\\pi \\delta\\left(k_y-\\frac{\\omega}{c} n_{\\mathrm {pw},y}\\right) \\cdot\n",
    "    2\\pi \\delta\\left(k_z-\\frac{\\omega}{c} n_{\\mathrm {pw},z}\\right)\n",
    "    =\n",
    "    (2\\pi)^3 \\delta\\left(\\mathbf k -\\frac{\\omega}{c} \\mathbf n_{\\mathrm {pw}}\\right)\n",
    "$$\n"
   ]
  },
  {
   "cell_type": "code",
   "execution_count": null,
   "metadata": {
    "collapsed": true
   },
   "outputs": [],
   "source": [
    "omega = 2*np.pi * np.linspace(20, 8000, 1000)  # evaluated angular frequencies\n",
    "theta_pw = np.linspace(0, np.pi, 181)  # evaluated incident plane waves\n",
    "\n",
    "def compute_dsb_beampattern(theta, theta_pw, omega, dx, M, c=343):\n",
    "    X_pw = np.zeros(shape=(len(omega), len(theta_pw)), dtype=complex)\n",
    "    for n, k in enumerate(omega/c):\n",
    "        for dm in np.arange(M)*dx:\n",
    "            X_pw[n, :] += np.exp(-1j * k * dm * (np.cos(theta_pw) - np.cos(theta)))\n",
    "            \n",
    "    return X_pw/M\n",
    "\n",
    "def plot_dsb_beampattern(X_pw, theta_pw, omega):\n",
    "    \n",
    "    X_pw = X_pw / np.max(np.abs(X_pw[:]))\n",
    "    \n",
    "    plt.figure(figsize=(10,10))\n",
    "    plt.pcolormesh(theta_pw/np.pi*180, omega/(2*np.pi), 20*np.log10(np.abs(X_pw)), cmap='viridis')\n",
    "    plt.colormaps()\n",
    "    plt.ylim([0, 8000])\n",
    "    plt.xlim([0, 180])\n",
    "    plt.colorbar()\n",
    "    plt.clim([-40,0])\n",
    "\n",
    "    plt.xlabel(r'$\\theta_{pw}$ in deg')\n",
    "    plt.ylabel('$f$ in Hz')\n",
    "    plt.title(r'$|\\bar{P}(\\theta, \\theta_{pw}, \\omega)|$ in dB')"
   ]
  },
  {
   "cell_type": "markdown",
   "metadata": {},
   "source": [
    "### Infinite, Discrete Array"
   ]
  },
  {
   "cell_type": "code",
   "execution_count": null,
   "metadata": {
    "collapsed": false
   },
   "outputs": [],
   "source": [
    "dx = 0.12 # distance between microphones\n",
    "M = 1000  # total number of microphones (approx. infinite)\n",
    "theta = np.pi/2  # steering direction\n",
    "\n",
    "X_pw = compute_dsb_beampattern(theta, theta_pw, omega, dx, M)\n",
    "plot_dsb_beampattern(X_pw, theta_pw, omega)"
   ]
  },
  {
   "cell_type": "markdown",
   "metadata": {},
   "source": [
    "### Truncated, Discrete Array"
   ]
  },
  {
   "cell_type": "code",
   "execution_count": null,
   "metadata": {
    "collapsed": false
   },
   "outputs": [],
   "source": [
    "dx = 0.12 # distance between microphones\n",
    "M = 8 # total number of microphones (approx. infinite)\n",
    "theta = np.pi/2  # steering direction\n",
    "\n",
    "X_pw = compute_dsb_beampattern(theta, theta_pw, omega, dx, M)\n",
    "plot_dsb_beampattern(X_pw, theta_pw, omega)"
   ]
  },
  {
   "cell_type": "markdown",
   "metadata": {},
   "source": [
    "### A real Array in a real Room"
   ]
  },
  {
   "cell_type": "code",
   "execution_count": null,
   "metadata": {
    "collapsed": false
   },
   "outputs": [],
   "source": [
    "# sd.query_devices()\n",
    "sd.default.device = 4  # Hammerfall DSP\n",
    "output_channels = [1,2]  # first two analog outputs\n",
    "input_channels = np.arange(9,17)  # all 8 ADAT input channels\n",
    "\n",
    "[x_target, fs] = sf.read('data/xmas.wav')  # target sound\n",
    "x_noise = 0.005*np.random.randn(len(x_target))  # gaussian noise as masker\n",
    "\n",
    "def dsb_beamforming(x_rec, theta, dx, M, nfft, c=343):\n",
    "    # get temporal spectrum (DFT)\n",
    "    X_rec = np.fft.rfft(x_rec, n=nfft, axis=0)\n",
    "    omega = 2*np.pi*np.fft.rfftfreq(nfft, 1/fs)\n",
    "    \n",
    "    # get plane wave decomposition using DSB\n",
    "    X_pw = np.zeros((len(omega),len(theta)), dtype='complex')\n",
    "    for tdx, th in enumerate(theta):\n",
    "        for ddx, dm in enumerate(np.arange(M)*dx):\n",
    "            X_pw[:,tdx] += X_rec[:,ddx]*np.exp(-1j*omega/c*dm*np.cos(th))\n",
    "    \n",
    "    return X_pw/M, omega"
   ]
  },
  {
   "cell_type": "markdown",
   "metadata": {},
   "source": [
    "#### One Source"
   ]
  },
  {
   "cell_type": "code",
   "execution_count": null,
   "metadata": {
    "collapsed": true
   },
   "outputs": [],
   "source": [
    "# record signal 1\n",
    "x_rec_one = sd.playrec(x_noise, \n",
    "                   samplerate=fs,\n",
    "                   input_mapping=input_channels, \n",
    "                   output_mapping=1, \n",
    "                   blocking=True)\n",
    "\n",
    "# record signal 2\n",
    "x_rec_two = sd.playrec(x_noise, \n",
    "                   samplerate=fs,\n",
    "                   input_mapping=input_channels, \n",
    "                   output_mapping=2, \n",
    "                   blocking=True)"
   ]
  },
  {
   "cell_type": "code",
   "execution_count": null,
   "metadata": {
    "collapsed": false
   },
   "outputs": [],
   "source": [
    "dx = 0.12 # distance between microphones\n",
    "M = 8 # total number of microphones (approx. infinite)\n",
    "theta = np.linspace(0, np.pi, 181) # steering directions\n",
    "\n",
    "X_pw_one, omega = dsb_beamforming(x_rec_one, theta, dx, M, 2*len(x_rec_one))\n",
    "plot_dsb_beampattern(X_pw_one, theta_pw, omega)"
   ]
  },
  {
   "cell_type": "code",
   "execution_count": null,
   "metadata": {
    "collapsed": false
   },
   "outputs": [],
   "source": [
    "dx = 0.12 # distance between microphones\n",
    "M = 8 # total number of microphones (approx. infinite)\n",
    "theta = np.linspace(0, np.pi, 181) # steering directions\n",
    "\n",
    "X_pw_two, omega = dsb_beamforming(x_rec_one, theta, dx, M, 2*len(x_rec_two))\n",
    "plot_dsb_beampattern(X_pw_two, theta_pw, omega)"
   ]
  },
  {
   "cell_type": "markdown",
   "metadata": {},
   "source": [
    "<p xmlns:dct=\"http://purl.org/dc/terms/\">\n",
    "  <a rel=\"license\"\n",
    "     href=\"http://creativecommons.org/publicdomain/zero/1.0/\">\n",
    "    <img src=\"http://i.creativecommons.org/p/zero/1.0/88x31.png\" style=\"border-style: none;\" alt=\"CC0\" />\n",
    "  </a>\n",
    "  <br />\n",
    "  To the extent possible under law,\n",
    "  <span rel=\"dct:publisher\" resource=\"[_:publisher]\">the person who associated CC0</span>\n",
    "  with this work has waived all copyright and related or neighboring\n",
    "  rights to this work.\n",
    "</p>"
   ]
  },
  {
   "cell_type": "code",
   "execution_count": null,
   "metadata": {
    "collapsed": true
   },
   "outputs": [],
   "source": []
  }
 ],
 "metadata": {
  "kernelspec": {
   "display_name": "Python 3",
   "language": "python",
   "name": "python3"
  },
  "language_info": {
   "codemirror_mode": {
    "name": "ipython",
    "version": 3
   },
   "file_extension": ".py",
   "mimetype": "text/x-python",
   "name": "python",
   "nbconvert_exporter": "python",
   "pygments_lexer": "ipython3",
   "version": "3.4.2"
  }
 },
 "nbformat": 4,
 "nbformat_minor": 1
}
