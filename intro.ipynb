{
 "metadata": {
  "name": "",
  "signature": "sha256:14d53bb10a81accff10e7b4f970b7f05e6b623a12a9b76dce173d0fdf1beb5af"
 },
 "nbformat": 3,
 "nbformat_minor": 0,
 "worksheets": [
  {
   "cells": [
    {
     "cell_type": "heading",
     "level": 1,
     "metadata": {},
     "source": [
      "Introduction to Python, Working with Audio Signals"
     ]
    },
    {
     "cell_type": "markdown",
     "metadata": {},
     "source": [
      "[return to main page](index.ipynb)"
     ]
    },
    {
     "cell_type": "code",
     "collapsed": false,
     "input": [],
     "language": "python",
     "metadata": {},
     "outputs": [],
     "prompt_number": 0
    },
    {
     "cell_type": "markdown",
     "metadata": {},
     "source": [
      "<p xmlns:dct=\"http://purl.org/dc/terms/\">\n",
      "  <a rel=\"license\"\n",
      "     href=\"http://creativecommons.org/publicdomain/zero/1.0/\">\n",
      "    <img src=\"http://i.creativecommons.org/p/zero/1.0/88x31.png\" style=\"border-style: none;\" alt=\"CC0\" />\n",
      "  </a>\n",
      "  <br />\n",
      "  To the extent possible under law,\n",
      "  <span rel=\"dct:publisher\" resource=\"[_:publisher]\">the person who associated CC0</span>\n",
      "  with this work has waived all copyright and related or neighboring\n",
      "  rights to this work.\n",
      "</p>"
     ]
    }
   ],
   "metadata": {}
  }
 ]
}