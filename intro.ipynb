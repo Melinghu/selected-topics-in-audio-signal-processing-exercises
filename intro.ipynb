{
 "metadata": {
  "name": "",
  "signature": "sha256:95759c426882c29ae1bff442752a9b4815125ae00724f10fca01ea882983d996"
 },
 "nbformat": 3,
 "nbformat_minor": 0,
 "worksheets": [
  {
   "cells": [
    {
     "cell_type": "heading",
     "level": 1,
     "metadata": {},
     "source": [
      "Introduction to Python et al., Working with Audio Signals"
     ]
    },
    {
     "cell_type": "markdown",
     "metadata": {},
     "source": [
      "[return to main page](index.ipynb)"
     ]
    },
    {
     "cell_type": "markdown",
     "metadata": {},
     "source": [
      "For most of the exercises, we will use the very popular programming language [Python](https://www.python.org) together with a few external libraries from the [Scientific Python Stack](http://scipy.org).\n",
      "To get started, have a look at this [Python Introduction](http://nbviewer.ipython.org/github/mgeier/python-audio/blob/master/intro-python.ipynb) and this [simple signal processing example](http://nbviewer.ipython.org/github/mgeier/python-audio/blob/master/simple-signals.ipynb).\n",
      "\n",
      "Note that Python is not the only option for the kind of tasks that we'll tackle here.\n",
      "If you are interested in some alternatives, have a look at [Julia](http://julialang.org/), [R](http://www.r-project.org/), [Octave](http://octave.org/) or [Scilab](http://www.scilab.org/).\n",
      "All the mentioned applications are open-source software and there are of course even more alternatives (free and proprietary).\n",
      "\n",
      "Most of the exercises (including the one you're reading right now) are presented as [IPython notebooks](http://ipython.org/notebook.html).\n",
      "They can be [viewed online](http://nbviewer.ipython.org/github/spatialaudio/communication-acoustics-exercises/blob/master/index.ipynb), but it makes much more sense to download them and run them with [IPython](http://ipython.org/).\n",
      "To get an idea what IPython is all about, have a look at this [IPython Introduction](http://nbviewer.ipython.org/github/mgeier/python-audio/blob/master/intro-ipython.ipynb).\n",
      "You should check out the terminal version of IPython (use the command `ipython3`) as well as the Qt console (start it with `ipython3 qtconsole`).\n",
      "But to use this very notebook, start the IPython notebook server (which will open a browser window for you) with the command:\n",
      "\n",
      "    ipython3 notebook\n",
      "\n",
      "ATTENTION: always make sure to run Python version 3.x and *not* Python 2.x!"
     ]
    },
    {
     "cell_type": "heading",
     "level": 2,
     "metadata": {},
     "source": [
      "Notebook Cells"
     ]
    },
    {
     "cell_type": "markdown",
     "metadata": {},
     "source": [
      "This notebook consists of so-called \"cells\", which can be used for normal text (see above) or for Python code (see below).\n",
      "The code cells can be selected by a mouse click, the code can be edited and then executed by pressing *Shift+Enter* or by clicking the \"play\" symbol in the top of the page.\n",
      "\n",
      "Try it:"
     ]
    },
    {
     "cell_type": "code",
     "collapsed": false,
     "input": [
      "50 - 5 * 4 + 12"
     ],
     "language": "python",
     "metadata": {},
     "outputs": []
    },
    {
     "cell_type": "markdown",
     "metadata": {},
     "source": [
      "Here's another code cell for you to play with:"
     ]
    },
    {
     "cell_type": "code",
     "collapsed": false,
     "input": [],
     "language": "python",
     "metadata": {},
     "outputs": []
    },
    {
     "cell_type": "markdown",
     "metadata": {},
     "source": [
      "New cells can be inserted by pressing the *a* or *b* keys (to insert *above* or *below* the current cell) or via the menu. You should also have a look at \"Help\" -> \"Keyboard Shortcuts\".\n",
      "\n",
      "You can step through all cells in the notebook by repeatedly pressing *Shift+Enter*.\n",
      "Alternatively, you can click \"Run All\" in the \"Cell\" menu."
     ]
    },
    {
     "cell_type": "heading",
     "level": 2,
     "metadata": {},
     "source": [
      "Importing Modules/Packages"
     ]
    },
    {
     "cell_type": "markdown",
     "metadata": {},
     "source": [
      "In order to work with numeric arrays (in our case mainly audio signals), we import the [NumPy](http://www.numpy.org) package."
     ]
    },
    {
     "cell_type": "code",
     "collapsed": false,
     "input": [
      "import numpy as np"
     ],
     "language": "python",
     "metadata": {},
     "outputs": []
    },
    {
     "cell_type": "markdown",
     "metadata": {},
     "source": [
      "Now we can use all NumPy functions (by prefixing `np.`)."
     ]
    },
    {
     "cell_type": "code",
     "collapsed": false,
     "input": [
      "np.zeros(10000)"
     ],
     "language": "python",
     "metadata": {},
     "outputs": []
    },
    {
     "cell_type": "heading",
     "level": 2,
     "metadata": {},
     "source": [
      "Array, Vector, Matrix"
     ]
    },
    {
     "cell_type": "markdown",
     "metadata": {},
     "source": [
      "Audio signals can be stored in NumPy *arrays*.\n",
      "Arrays can have arbitrarily many dimensions, but let's use only one-dimensional arrays for now.\n",
      "Arrays can be created like this:"
     ]
    },
    {
     "cell_type": "code",
     "collapsed": false,
     "input": [
      "a = np.array([0, 1, 2, 3, 4, 5, 6, 7, 8, 9])"
     ],
     "language": "python",
     "metadata": {},
     "outputs": []
    },
    {
     "cell_type": "markdown",
     "metadata": {},
     "source": [
      "Note that the result is not displayed when you assign to a variable.\n",
      "To show the data, write the variable name separately as the last (or only) line of a code cell."
     ]
    },
    {
     "cell_type": "code",
     "collapsed": false,
     "input": [
      "a"
     ],
     "language": "python",
     "metadata": {},
     "outputs": []
    },
    {
     "cell_type": "markdown",
     "metadata": {},
     "source": [
      "BTW, there is an easier way to get this particular array:"
     ]
    },
    {
     "cell_type": "code",
     "collapsed": false,
     "input": [
      "b = np.arange(10)\n",
      "b"
     ],
     "language": "python",
     "metadata": {},
     "outputs": []
    },
    {
     "cell_type": "heading",
     "level": 2,
     "metadata": {},
     "source": [
      "Getting Help"
     ]
    },
    {
     "cell_type": "markdown",
     "metadata": {},
     "source": [
      "If you want to know details about the usage of [`np.arange()`](http://docs.scipy.org/doc/numpy/reference/generated/numpy.arange.html) and all its supported arguments, have a look at its help text.\n",
      "Just append a question mark to the function name:"
     ]
    },
    {
     "cell_type": "code",
     "collapsed": false,
     "input": [
      "np.arange?"
     ],
     "language": "python",
     "metadata": {},
     "outputs": []
    },
    {
     "cell_type": "markdown",
     "metadata": {},
     "source": [
      "A help window should open in the lower part of the browser window.\n",
      "This window can be closed by hitting the *q* key (like \"quit\").\n",
      "\n",
      "Let's get some more help:"
     ]
    },
    {
     "cell_type": "code",
     "collapsed": false,
     "input": [
      "np.zeros?"
     ],
     "language": "python",
     "metadata": {},
     "outputs": []
    },
    {
     "cell_type": "markdown",
     "metadata": {},
     "source": [
      "You can also get help for the whole NumPy package:"
     ]
    },
    {
     "cell_type": "code",
     "collapsed": false,
     "input": [
      "np?"
     ],
     "language": "python",
     "metadata": {},
     "outputs": []
    },
    {
     "cell_type": "markdown",
     "metadata": {},
     "source": [
      "You can get help for any object in the namespace by appending a question mark to the name of the object.\n",
      "Let's check what the help system can tell us about our variable `a`:"
     ]
    },
    {
     "cell_type": "code",
     "collapsed": false,
     "input": [
      "a?"
     ],
     "language": "python",
     "metadata": {},
     "outputs": []
    },
    {
     "cell_type": "markdown",
     "metadata": {},
     "source": [
      "The help system may come in handy when solving the following exercises ..."
     ]
    },
    {
     "cell_type": "heading",
     "level": 2,
     "metadata": {},
     "source": [
      "`np.arange()`"
     ]
    },
    {
     "cell_type": "markdown",
     "metadata": {},
     "source": [
      "We'll often need sequences of evenly spaced numbers, so let's create some."
     ]
    },
    {
     "cell_type": "markdown",
     "metadata": {},
     "source": [
      "*Exercise:* Create a sequence of numbers with `np.arange()`, starting with 0 and up to (but not including) 6 with a step size of 1."
     ]
    },
    {
     "cell_type": "code",
     "collapsed": false,
     "input": [],
     "language": "python",
     "metadata": {},
     "outputs": []
    },
    {
     "cell_type": "markdown",
     "metadata": {},
     "source": [
      "*Exercise:* Create a sequence of numbers with `np.arange()`, starting with 0 and up to (but not including) 0.6 with a step size of 0.1."
     ]
    },
    {
     "cell_type": "code",
     "collapsed": false,
     "input": [],
     "language": "python",
     "metadata": {},
     "outputs": []
    },
    {
     "cell_type": "markdown",
     "metadata": {},
     "source": [
      "*Exercise:* Create a sequence of numbers with `np.arange()`, starting with 0.5 and up to (but not including) 1.1 with a step size of 0.1."
     ]
    },
    {
     "cell_type": "code",
     "collapsed": false,
     "input": [],
     "language": "python",
     "metadata": {},
     "outputs": []
    },
    {
     "cell_type": "markdown",
     "metadata": {},
     "source": [
      "The previous exercise is somewhat tricky.\n",
      "If you got it right, have a look at [arange considered harmful](http://nbviewer.ipython.org/github/mgeier/python-audio/blob/master/misc/arange.ipynb) for what you *could have* done wrong.\n",
      "If you got an unexpected result, have a look at [arange considered harmful](http://nbviewer.ipython.org/github/mgeier/python-audio/blob/master/misc/arange.ipynb) for an explanation.\n",
      "\n",
      "Can you fix the problem?\n",
      "\n",
      "What do we learn from all this?\n",
      "$\\Rightarrow$\n",
      "`np.arange()` is great, but use it only with integer step sizes!"
     ]
    },
    {
     "cell_type": "heading",
     "level": 2,
     "metadata": {},
     "source": [
      "`np.linspace()`"
     ]
    },
    {
     "cell_type": "markdown",
     "metadata": {},
     "source": [
      "Another, slightly different method to create a sequence of evenly spaced numbers is [`np.linspace()`](http://docs.scipy.org/doc/numpy/reference/generated/numpy.linspace.html).\n",
      "Have a look at the documentation."
     ]
    },
    {
     "cell_type": "code",
     "collapsed": false,
     "input": [
      "np.linspace?"
     ],
     "language": "python",
     "metadata": {},
     "outputs": []
    },
    {
     "cell_type": "markdown",
     "metadata": {},
     "source": [
      "*Exercise:* Create a sequence of numbers with `np.linspace()`, starting with 0 and up to (including) 6 with a step size of 1."
     ]
    },
    {
     "cell_type": "code",
     "collapsed": false,
     "input": [],
     "language": "python",
     "metadata": {},
     "outputs": []
    },
    {
     "cell_type": "markdown",
     "metadata": {},
     "source": [
      "Note that the resulting array will have a *floating point* data type even if all inputs (and the step size) are integers.\n",
      "This is not the case with `np.arange()`."
     ]
    },
    {
     "cell_type": "markdown",
     "metadata": {},
     "source": [
      "*Exercise:* Create a sequence of numbers with `np.linspace()`, starting with 0 and up to (but not including) 6 with a step size of 1."
     ]
    },
    {
     "cell_type": "code",
     "collapsed": false,
     "input": [],
     "language": "python",
     "metadata": {},
     "outputs": []
    },
    {
     "cell_type": "markdown",
     "metadata": {},
     "source": [
      "*Exercise:* Create a sequence of numbers with `np.linspace()`, starting with 0 and up to (but not including) 0.6 with a step size of 0.1."
     ]
    },
    {
     "cell_type": "code",
     "collapsed": false,
     "input": [],
     "language": "python",
     "metadata": {},
     "outputs": []
    },
    {
     "cell_type": "markdown",
     "metadata": {},
     "source": [
      "*Exercise:* Create a sequence of numbers with `np.linspace()`, starting with 0.5 and up to (but not including) 1.1 with a step size of 0.1."
     ]
    },
    {
     "cell_type": "code",
     "collapsed": false,
     "input": [],
     "language": "python",
     "metadata": {},
     "outputs": []
    },
    {
     "cell_type": "markdown",
     "metadata": {},
     "source": [
      "Note that `np.linspace()` doesn't have the above-mentioned problem we had with `np.arange()`."
     ]
    },
    {
     "cell_type": "heading",
     "level": 2,
     "metadata": {},
     "source": [
      "`np.arange()` vs. `np.linspace()`"
     ]
    },
    {
     "cell_type": "markdown",
     "metadata": {},
     "source": [
      "*Exercise:* Find some examples where `np.array()` works better and some where `np.linspace()` should be preferred."
     ]
    },
    {
     "cell_type": "code",
     "collapsed": false,
     "input": [],
     "language": "python",
     "metadata": {},
     "outputs": []
    },
    {
     "cell_type": "heading",
     "level": 2,
     "metadata": {},
     "source": [
      "A Shorthand for `np.arange()` and `np.linspace()`"
     ]
    },
    {
     "cell_type": "markdown",
     "metadata": {},
     "source": [
      "If you want to save a few keystrokes and make your code a little more obscure, have a look at [`np.r_[]`](http://docs.scipy.org/doc/numpy/reference/generated/numpy.r_.html)."
     ]
    },
    {
     "cell_type": "code",
     "collapsed": false,
     "input": [
      "np.r_?"
     ],
     "language": "python",
     "metadata": {},
     "outputs": []
    },
    {
     "cell_type": "heading",
     "level": 2,
     "metadata": {},
     "source": [
      "Creating a Sine Tone"
     ]
    },
    {
     "cell_type": "markdown",
     "metadata": {},
     "source": [
      "Now let's create our first audio signal, shall we?\n",
      "\n",
      "Let's generate a signal using the equation $y(t) = \\sin(\\omega t)$ with $\\omega = 2\\pi f$ and $f$ being the frequency of the sine tone.\n",
      "\n",
      "We can use the function [`np.sin()`](http://docs.scipy.org/doc/numpy/reference/generated/numpy.sin.html) to create a sine tone. Let's look at its help text first:"
     ]
    },
    {
     "cell_type": "code",
     "collapsed": false,
     "input": [
      "np.sin?"
     ],
     "language": "python",
     "metadata": {},
     "outputs": []
    },
    {
     "cell_type": "markdown",
     "metadata": {},
     "source": [
      "Now that we know which function to call, we just need appropriate input.\n",
      "And that's where our sequences of evenly spaced values from above come into play.\n",
      "\n",
      "The nice thing about NumPy functions like `np.sin()` is that they can operate on whole arrays at once, so it is not necessary to call the function on each single value separately.\n",
      "We can store the whole range of values for our time variable $t$ in one array.\n",
      "\n",
      "According to the equation, each value of $t$ has to be multiplied with (the constant) $\\omega$.\n",
      "That's another nice thing about NumPy: we don't have to multiply every value of the array $t$ separately with $\\omega$, we can multiply the whole array with a scalar at once, and NumPy does the element-wise multiplication for us.\n",
      "This is called [\"broadcasting\"](http://docs.scipy.org/doc/numpy/user/basics.broadcasting.html), in case you stumble upon that in the docs.\n",
      "\n",
      "The only thing that's still missing is $\\pi$, but that's simple:"
     ]
    },
    {
     "cell_type": "code",
     "collapsed": false,
     "input": [
      "np.pi"
     ],
     "language": "python",
     "metadata": {},
     "outputs": []
    },
    {
     "cell_type": "markdown",
     "metadata": {},
     "source": [
      "*Exercise:* Create a sine tone with a frequency of 500 Hz and a duration of 1 second. The first value of $t$ should be 0. Use a sampling rate of 44.1 kHz."
     ]
    },
    {
     "cell_type": "code",
     "collapsed": false,
     "input": [
      "dur = 1  # duration in seconds\n",
      "freq = 500  # frequency of the sine tone in Hertz\n",
      "fs = 44100  # sampling frequency in Hertz\n",
      "\n",
      "# t = ???\n",
      "\n",
      "# y = np.sin(??? * t)"
     ],
     "language": "python",
     "metadata": {},
     "outputs": []
    },
    {
     "cell_type": "markdown",
     "metadata": {},
     "source": [
      "What happens if `dur` is not an integer?  \n",
      "What happens if `dur` is not an integer multiple of `1/fs`?\n",
      "\n",
      "*Exercise:* Try if your code still works in those cases."
     ]
    },
    {
     "cell_type": "code",
     "collapsed": false,
     "input": [],
     "language": "python",
     "metadata": {},
     "outputs": []
    },
    {
     "cell_type": "markdown",
     "metadata": {},
     "source": [
      "Let's have a quick look at $y$."
     ]
    },
    {
     "cell_type": "code",
     "collapsed": false,
     "input": [
      "y"
     ],
     "language": "python",
     "metadata": {},
     "outputs": []
    },
    {
     "cell_type": "markdown",
     "metadata": {},
     "source": [
      "That's just a bunch of numbers, probably we can get some more information ..."
     ]
    },
    {
     "cell_type": "markdown",
     "metadata": {},
     "source": [
      "*Exercise:* Try those different ways to obtain the size of the resulting array."
     ]
    },
    {
     "cell_type": "code",
     "collapsed": false,
     "input": [
      "len(y)"
     ],
     "language": "python",
     "metadata": {},
     "outputs": []
    },
    {
     "cell_type": "code",
     "collapsed": false,
     "input": [
      "y.shape"
     ],
     "language": "python",
     "metadata": {},
     "outputs": []
    },
    {
     "cell_type": "code",
     "collapsed": false,
     "input": [
      "y.size"
     ],
     "language": "python",
     "metadata": {},
     "outputs": []
    },
    {
     "cell_type": "markdown",
     "metadata": {},
     "source": [
      "*Exercise:* What's the difference between them?"
     ]
    },
    {
     "cell_type": "code",
     "collapsed": false,
     "input": [
      "len?"
     ],
     "language": "python",
     "metadata": {},
     "outputs": []
    },
    {
     "cell_type": "code",
     "collapsed": false,
     "input": [
      "np.ndarray.shape?"
     ],
     "language": "python",
     "metadata": {},
     "outputs": []
    },
    {
     "cell_type": "code",
     "collapsed": false,
     "input": [
      "np.ndarray.size?"
     ],
     "language": "python",
     "metadata": {},
     "outputs": []
    },
    {
     "cell_type": "markdown",
     "metadata": {},
     "source": [
      "*Exercise:* There's a lot more information about the array, try the following commands and find out what they mean."
     ]
    },
    {
     "cell_type": "code",
     "collapsed": false,
     "input": [
      "y.ndim"
     ],
     "language": "python",
     "metadata": {},
     "outputs": []
    },
    {
     "cell_type": "code",
     "collapsed": false,
     "input": [
      "y.dtype"
     ],
     "language": "python",
     "metadata": {},
     "outputs": []
    },
    {
     "cell_type": "code",
     "collapsed": false,
     "input": [
      "y.itemsize"
     ],
     "language": "python",
     "metadata": {},
     "outputs": []
    },
    {
     "cell_type": "code",
     "collapsed": false,
     "input": [
      "y.nbytes"
     ],
     "language": "python",
     "metadata": {},
     "outputs": []
    },
    {
     "cell_type": "code",
     "collapsed": false,
     "input": [
      "y.size * y.itemsize"
     ],
     "language": "python",
     "metadata": {},
     "outputs": []
    },
    {
     "cell_type": "code",
     "collapsed": false,
     "input": [
      "y.strides"
     ],
     "language": "python",
     "metadata": {},
     "outputs": []
    },
    {
     "cell_type": "code",
     "collapsed": false,
     "input": [
      "y.flags"
     ],
     "language": "python",
     "metadata": {},
     "outputs": []
    },
    {
     "cell_type": "markdown",
     "metadata": {},
     "source": [
      "You can also get some statistical values about the data in the array.\n",
      "Those are not very interesting for our sine tone, but it's still good to know that they exist."
     ]
    },
    {
     "cell_type": "code",
     "collapsed": false,
     "input": [
      "y.max()"
     ],
     "language": "python",
     "metadata": {},
     "outputs": []
    },
    {
     "cell_type": "code",
     "collapsed": false,
     "input": [
      "y.min()"
     ],
     "language": "python",
     "metadata": {},
     "outputs": []
    },
    {
     "cell_type": "code",
     "collapsed": false,
     "input": [
      "y.ptp()"
     ],
     "language": "python",
     "metadata": {},
     "outputs": []
    },
    {
     "cell_type": "code",
     "collapsed": false,
     "input": [
      "y.mean()"
     ],
     "language": "python",
     "metadata": {},
     "outputs": []
    },
    {
     "cell_type": "code",
     "collapsed": false,
     "input": [
      "y.std()"
     ],
     "language": "python",
     "metadata": {},
     "outputs": []
    },
    {
     "cell_type": "code",
     "collapsed": false,
     "input": [
      "y.var()"
     ],
     "language": "python",
     "metadata": {},
     "outputs": []
    },
    {
     "cell_type": "heading",
     "level": 2,
     "metadata": {},
     "source": [
      "Plotting"
     ]
    },
    {
     "cell_type": "markdown",
     "metadata": {},
     "source": [
      "NumPy cannot plot by itself, it needs some help from [`matplotlib`](http://matplotlib.org/)."
     ]
    },
    {
     "cell_type": "code",
     "collapsed": false,
     "input": [
      "import matplotlib.pyplot as plt"
     ],
     "language": "python",
     "metadata": {},
     "outputs": []
    },
    {
     "cell_type": "markdown",
     "metadata": {},
     "source": [
      "Now we can plot the data from our array:"
     ]
    },
    {
     "cell_type": "code",
     "collapsed": false,
     "input": [
      "plt.plot(y)"
     ],
     "language": "python",
     "metadata": {},
     "outputs": []
    },
    {
     "cell_type": "markdown",
     "metadata": {},
     "source": [
      "The peculiar thing about `matplotlib` is that is doesn't actually show the plot!\n",
      "\n",
      "But it's in there somewhere ... we just have to use `show()` to reveal it:"
     ]
    },
    {
     "cell_type": "code",
     "collapsed": false,
     "input": [
      "plt.show()"
     ],
     "language": "python",
     "metadata": {},
     "outputs": []
    },
    {
     "cell_type": "markdown",
     "metadata": {},
     "source": [
      "Now the plot window should be visible.\n",
      "Check out [all those fancy buttons](http://matplotlib.org/users/navigation_toolbar.html)!\n",
      "\n",
      "*Exercise:* Zoom into the plot so that only one period of the sine tone is visible.\n",
      "There are different ways to do that.\n",
      "\n",
      "Note that while the plot window is open, we cannot use any of the code cells in our notebook.\n",
      "This is annoying.\n",
      "As is all the time typing `plt.show()`.\n",
      "\n",
      "That's why the IPython notebook provides the special (a.k.a. \"magic\") command `%matplotlib`."
     ]
    },
    {
     "cell_type": "code",
     "collapsed": false,
     "input": [
      "%matplotlib"
     ],
     "language": "python",
     "metadata": {},
     "outputs": []
    },
    {
     "cell_type": "markdown",
     "metadata": {},
     "source": [
      "After that, you don't have to use `show()` anymore, and you can run code cells even if the plot window is open.\n",
      "\n",
      "Try it:"
     ]
    },
    {
     "cell_type": "code",
     "collapsed": false,
     "input": [
      "plt.plot(y)"
     ],
     "language": "python",
     "metadata": {},
     "outputs": []
    },
    {
     "cell_type": "markdown",
     "metadata": {},
     "source": [
      "Nice, isn't it?\n",
      "\n",
      "There is still something ugly going on:\n",
      "The plotting functions return some strange object(s) which we don't need (for now).\n",
      "Those can be ignored by appending a semicolon to the last line of a code cell (is has no effect in any other line):"
     ]
    },
    {
     "cell_type": "code",
     "collapsed": false,
     "input": [
      "plt.plot(y);"
     ],
     "language": "python",
     "metadata": {},
     "outputs": []
    },
    {
     "cell_type": "markdown",
     "metadata": {},
     "source": [
      "Very nice!"
     ]
    },
    {
     "cell_type": "markdown",
     "metadata": {},
     "source": [
      "The plot window is very useful for quick interactive exploration, but sometimes you might want to save the plots within the notebook:"
     ]
    },
    {
     "cell_type": "code",
     "collapsed": false,
     "input": [
      "%matplotlib inline"
     ],
     "language": "python",
     "metadata": {},
     "outputs": []
    },
    {
     "cell_type": "markdown",
     "metadata": {},
     "source": [
      "Anything you plot now, will be shown right below the code cell.\n",
      "Let's only plot a part of the signal this time."
     ]
    },
    {
     "cell_type": "code",
     "collapsed": false,
     "input": [
      "plt.plot(y[:300]);"
     ],
     "language": "python",
     "metadata": {},
     "outputs": []
    },
    {
     "cell_type": "markdown",
     "metadata": {},
     "source": [
      "Inline plots are saved (as images) within the notebook.\n",
      "\n",
      "If you want to use the plot window again, just do:"
     ]
    },
    {
     "cell_type": "code",
     "collapsed": false,
     "input": [
      "%matplotlib"
     ],
     "language": "python",
     "metadata": {},
     "outputs": []
    },
    {
     "cell_type": "markdown",
     "metadata": {},
     "source": [
      "As always, for more info:"
     ]
    },
    {
     "cell_type": "code",
     "collapsed": false,
     "input": [
      "%matplotlib?"
     ],
     "language": "python",
     "metadata": {},
     "outputs": []
    },
    {
     "cell_type": "markdown",
     "metadata": {},
     "source": [
      "There is a similar \"magic\" command which may come in handy for quickly trying stuff without having to type all those imports and all the `np.` and `plt.` prefixes:"
     ]
    },
    {
     "cell_type": "code",
     "collapsed": false,
     "input": [
      "%pylab?"
     ],
     "language": "python",
     "metadata": {},
     "outputs": []
    },
    {
     "cell_type": "markdown",
     "metadata": {},
     "source": [
      "However, this is not recommended for \"serious\" notebooks, because it makes the code harder to read and it may lead to confusion between functions with the same name from different namespaces (`sum()` vs. `np.sum()`, `max()` vs. `np.max()`, `round()` vs. `np.round()` etc.)."
     ]
    },
    {
     "cell_type": "code",
     "collapsed": false,
     "input": [],
     "language": "python",
     "metadata": {},
     "outputs": []
    },
    {
     "cell_type": "heading",
     "level": 2,
     "metadata": {},
     "source": [
      "More exercises are coming soon!"
     ]
    },
    {
     "cell_type": "code",
     "collapsed": false,
     "input": [
      "# multichannel data"
     ],
     "language": "python",
     "metadata": {},
     "outputs": []
    },
    {
     "cell_type": "code",
     "collapsed": false,
     "input": [
      "# comments"
     ],
     "language": "python",
     "metadata": {},
     "outputs": []
    },
    {
     "cell_type": "code",
     "collapsed": false,
     "input": [
      "%whos"
     ],
     "language": "python",
     "metadata": {},
     "outputs": []
    },
    {
     "cell_type": "code",
     "collapsed": false,
     "input": [
      "%qtconsole"
     ],
     "language": "python",
     "metadata": {},
     "outputs": []
    },
    {
     "cell_type": "code",
     "collapsed": false,
     "input": [],
     "language": "python",
     "metadata": {},
     "outputs": []
    },
    {
     "cell_type": "markdown",
     "metadata": {},
     "source": [
      "<p xmlns:dct=\"http://purl.org/dc/terms/\">\n",
      "  <a rel=\"license\"\n",
      "     href=\"http://creativecommons.org/publicdomain/zero/1.0/\">\n",
      "    <img src=\"http://i.creativecommons.org/p/zero/1.0/88x31.png\" style=\"border-style: none;\" alt=\"CC0\" />\n",
      "  </a>\n",
      "  <br />\n",
      "  To the extent possible under law,\n",
      "  <span rel=\"dct:publisher\" resource=\"[_:publisher]\">the person who associated CC0</span>\n",
      "  with this work has waived all copyright and related or neighboring\n",
      "  rights to this work.\n",
      "</p>"
     ]
    }
   ],
   "metadata": {}
  }
 ]
}