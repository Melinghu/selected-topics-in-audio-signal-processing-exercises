{
 "cells": [
  {
   "cell_type": "markdown",
   "metadata": {},
   "source": [
    "[exercises](brir.ipynb)"
   ]
  },
  {
   "cell_type": "code",
   "execution_count": 1,
   "metadata": {
    "collapsed": true
   },
   "outputs": [],
   "source": [
    "import soundfile as sf\n",
    "from scipy.io import loadmat"
   ]
  },
  {
   "cell_type": "code",
   "execution_count": 2,
   "metadata": {
    "collapsed": false
   },
   "outputs": [
    {
     "data": {
      "text/plain": [
       "44100"
      ]
     },
     "execution_count": 2,
     "metadata": {},
     "output_type": "execute_result"
    }
   ],
   "source": [
    "brir_clap, clap_fs = sf.read(\"data/brir_clap.wav\")\n",
    "clap_fs"
   ]
  },
  {
   "cell_type": "code",
   "execution_count": 3,
   "metadata": {
    "collapsed": false
   },
   "outputs": [
    {
     "data": {
      "text/plain": [
       "(45998, 2)"
      ]
     },
     "execution_count": 3,
     "metadata": {},
     "output_type": "execute_result"
    }
   ],
   "source": [
    "brir_clap.shape"
   ]
  },
  {
   "cell_type": "code",
   "execution_count": 4,
   "metadata": {
    "collapsed": false
   },
   "outputs": [
    {
     "data": {
      "text/plain": [
       "1.0430385487528344"
      ]
     },
     "execution_count": 4,
     "metadata": {},
     "output_type": "execute_result"
    }
   ],
   "source": [
    "len(brir_clap) / clap_fs  # duration in seconds"
   ]
  },
  {
   "cell_type": "code",
   "execution_count": 5,
   "metadata": {
    "collapsed": false
   },
   "outputs": [
    {
     "data": {
      "text/plain": [
       "b'MATLAB 5.0 MAT-file, Platform: PCWIN64, Created on: Tue May 07 11:52:13 2013'"
      ]
     },
     "execution_count": 5,
     "metadata": {},
     "output_type": "execute_result"
    }
   ],
   "source": [
    "mat_contents = loadmat(\"data/brir_sweep.mat\", struct_as_record=False, squeeze_me=True)\n",
    "mat_contents['__header__']"
   ]
  },
  {
   "cell_type": "code",
   "execution_count": 6,
   "metadata": {
    "collapsed": false
   },
   "outputs": [
    {
     "data": {
      "text/plain": [
       "scipy.io.matlab.mio5_params.mat_struct"
      ]
     },
     "execution_count": 6,
     "metadata": {},
     "output_type": "execute_result"
    }
   ],
   "source": [
    "data = mat_contents['data']\n",
    "type(data)"
   ]
  },
  {
   "cell_type": "code",
   "execution_count": 7,
   "metadata": {
    "collapsed": false
   },
   "outputs": [
    {
     "data": {
      "text/plain": [
       "(2167, 'YES')"
      ]
     },
     "execution_count": 7,
     "metadata": {},
     "output_type": "execute_result"
    }
   ],
   "source": [
    "data.SystemLatencySamples, data.SystemlatencyRemoved"
   ]
  },
  {
   "cell_type": "code",
   "execution_count": 8,
   "metadata": {
    "collapsed": false
   },
   "outputs": [
    {
     "data": {
      "text/plain": [
       "44100"
      ]
     },
     "execution_count": 8,
     "metadata": {},
     "output_type": "execute_result"
    }
   ],
   "source": [
    "sweep_fs = data.fs\n",
    "assert sweep_fs == clap_fs\n",
    "sweep_fs"
   ]
  },
  {
   "cell_type": "code",
   "execution_count": 9,
   "metadata": {
    "collapsed": false
   },
   "outputs": [
    {
     "data": {
      "text/plain": [
       "0"
      ]
     },
     "execution_count": 9,
     "metadata": {},
     "output_type": "execute_result"
    }
   ],
   "source": [
    "data.head_azimuth"
   ]
  },
  {
   "cell_type": "code",
   "execution_count": 10,
   "metadata": {
    "collapsed": false
   },
   "outputs": [
    {
     "data": {
      "text/plain": [
       "(66150, 2)"
      ]
     },
     "execution_count": 10,
     "metadata": {},
     "output_type": "execute_result"
    }
   ],
   "source": [
    "brir_sweep = data.ir\n",
    "brir_sweep.shape"
   ]
  },
  {
   "cell_type": "code",
   "execution_count": 11,
   "metadata": {
    "collapsed": false
   },
   "outputs": [
    {
     "data": {
      "text/plain": [
       "1.5"
      ]
     },
     "execution_count": 11,
     "metadata": {},
     "output_type": "execute_result"
    }
   ],
   "source": [
    "len(brir_sweep) / sweep_fs  # duration in seconds"
   ]
  },
  {
   "cell_type": "code",
   "execution_count": 12,
   "metadata": {
    "collapsed": true
   },
   "outputs": [],
   "source": [
    "speech, speech_fs = sf.read(\"data/xmas.wav\", always_2d=False)"
   ]
  },
  {
   "cell_type": "code",
   "execution_count": 13,
   "metadata": {
    "collapsed": true
   },
   "outputs": [],
   "source": [
    "assert speech_fs == clap_fs == sweep_fs\n",
    "fs = speech_fs"
   ]
  },
  {
   "cell_type": "code",
   "execution_count": 14,
   "metadata": {
    "collapsed": true
   },
   "outputs": [],
   "source": [
    "import itertools\n",
    "import numpy as np\n",
    "from scipy import signal\n",
    "import tools\n",
    "\n",
    "def convolve_columns(x, h, **kwargs):\n",
    "    \"\"\"Convolve columns of two arrays.\n",
    "    \n",
    "    If the two arrays have the same numer of columns, corresponding\n",
    "    pairs of columns are convolved.\n",
    "    If one array has only one column (or is one-dimensional), it is\n",
    "    convolved with each column of the other array.  Latter case is a bit\n",
    "    inefficient, because the same FFT is repeated multiple times.\n",
    "    \n",
    "    After the convolution, the result is normalized to the maximum\n",
    "    amplitude of x.    \n",
    "    \n",
    "    \"\"\"\n",
    "    def prepare(a):\n",
    "        a = np.asarray(a)\n",
    "        if a.ndim == 1:\n",
    "            a = a.reshape(-1, 1)\n",
    "        return a, a.shape[1], x.T\n",
    "\n",
    "    x, x_cols, x_list = prepare(x)\n",
    "    h, h_cols, h_list = prepare(h)\n",
    "\n",
    "    if x_cols == h_cols:\n",
    "        pass\n",
    "    elif x_cols == 1:\n",
    "        x_list = itertools.repeat(x[:, 0], h_cols)\n",
    "    elif h_cols == 1:\n",
    "        h_list = itertools.repeat(h[:, 0], x_cols)\n",
    "    else:\n",
    "        raise ValueError(\"x and h must have the same number of columns\")\n",
    "\n",
    "    y = np.column_stack([signal.fftconvolve(in1, in2, **kwargs)\n",
    "                         for in1, in2 in zip(x_list, h_list)])\n",
    "    y = tools.normalize(y, np.max(np.abs(x)))\n",
    "    return y"
   ]
  },
  {
   "cell_type": "markdown",
   "metadata": {},
   "source": [
    "Note that `scipy.signal.fftconvolve()` does n-dimensional convolution.\n",
    "Since we only need one-dimensional convolution, we have to call it with one-dimensional arrays.\n",
    "\n",
    "Probably, some time in the future, `scipy.signal.fftconvolve()` will grow an `axis` argument ...\n",
    "\n",
    "https://github.com/scipy/scipy/issues/3525\n",
    "\n",
    "http://docs.scipy.org/doc/numpy/reference/generated/numpy.apply_along_axis.html\n",
    "\n",
    "http://stackoverflow.com/a/29678671/500098\n",
    "\n",
    "http://nipy.org/nitime/api/generated/nitime.utils.html#nitime.utils.fftconvolve"
   ]
  },
  {
   "cell_type": "code",
   "execution_count": 15,
   "metadata": {
    "collapsed": false
   },
   "outputs": [
    {
     "data": {
      "text/plain": [
       "(228799, 1)"
      ]
     },
     "execution_count": 15,
     "metadata": {},
     "output_type": "execute_result"
    }
   ],
   "source": [
    "speech_clap = convolve_columns(speech, brir_clap)\n",
    "speech_clap.shape"
   ]
  },
  {
   "cell_type": "code",
   "execution_count": 16,
   "metadata": {
    "collapsed": true
   },
   "outputs": [],
   "source": [
    "speech_sweep = convolve_columns(speech, brir_sweep)"
   ]
  },
  {
   "cell_type": "code",
   "execution_count": 17,
   "metadata": {
    "collapsed": true
   },
   "outputs": [],
   "source": [
    "# more solutions coming soon!"
   ]
  },
  {
   "cell_type": "markdown",
   "metadata": {},
   "source": [
    "<p xmlns:dct=\"http://purl.org/dc/terms/\">\n",
    "  <a rel=\"license\"\n",
    "     href=\"http://creativecommons.org/publicdomain/zero/1.0/\">\n",
    "    <img src=\"http://i.creativecommons.org/p/zero/1.0/88x31.png\" style=\"border-style: none;\" alt=\"CC0\" />\n",
    "  </a>\n",
    "  <br />\n",
    "  To the extent possible under law,\n",
    "  <span rel=\"dct:publisher\" resource=\"[_:publisher]\">the person who associated CC0</span>\n",
    "  with this work has waived all copyright and related or neighboring\n",
    "  rights to this work.\n",
    "</p>"
   ]
  }
 ],
 "metadata": {
  "kernelspec": {
   "display_name": "Python 3",
   "language": "python",
   "name": "python3"
  },
  "language_info": {
   "codemirror_mode": {
    "name": "ipython",
    "version": 3
   },
   "file_extension": ".py",
   "mimetype": "text/x-python",
   "name": "python",
   "nbconvert_exporter": "python",
   "pygments_lexer": "ipython3",
   "version": "3.4.3"
  }
 },
 "nbformat": 4,
 "nbformat_minor": 0
}
