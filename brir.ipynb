{
 "cells": [
  {
   "cell_type": "markdown",
   "metadata": {},
   "source": [
    "# Binaural Room Impulse Responses (BRIRs)\n",
    "\n",
    "[return to main page](index.ipynb)\n",
    "\n",
    "In this unit we will measure - with the help of our dummy head Ulf - binaural room impulse\n",
    "responses (BRIRs) of our seminar room. \n",
    "\n",
    "![Our Dummy Head](images/ulf.jpg)\n",
    "\n",
    "We will be using two different methods:\n",
    "\n",
    "* First, we excite the room - like in the [previous unit](rir.ipynb) - by clapping two wooden boards together.\n",
    "  But this time, instead of using a single microphone, we will record the room response with the dummy head.\n",
    "  We'll use the free audio recording/editing software [Audacity](http://web.audacityteam.org/) again.\n",
    "\n",
    "* Afterwards, we use the slightly more modern *sweep method*.\n",
    "  We excite the room with a sine sweep, which we reproduce by means of a loudspeaker.\n",
    "  The actual impulse response will be calculated from the excitation signal and the signal recorded by the dummy head.\n",
    "\n",
    "Further information will be provided during the exercises.\n",
    "\n",
    "If you cannot be with us for the measurements, you can still try the following exercises with these files (from older measurements):\n",
    "\n",
    "* using the wooden boards: [data/brir_clap.wav](data/brir_clap.wav)\n",
    "\n",
    "* using the sweep method:  [data/brir_sweep.mat](data/brir_sweep.mat)"
   ]
  },
  {
   "cell_type": "markdown",
   "metadata": {},
   "source": [
    "## Loading the BRIRs\n",
    "\n",
    "We already know from the previous units how to load WAV files, so the first one should be easy.\n",
    "Note, however, that now we are dealing with a two-channel file (one channel for each ear).\n",
    "The resulting NumPy array will be two-dimensional and it will contain the channels along the columns.\n",
    "\n",
    "*Exercise:* Load the WAV file with the BRIRs.\n",
    "Use the `shape` property of the resulting array to check if the dimensions/sizes are as you expect them.\n",
    "How long (in seconds) are the impulse responses?"
   ]
  },
  {
   "cell_type": "code",
   "execution_count": null,
   "metadata": {
    "collapsed": true
   },
   "outputs": [],
   "source": []
  },
  {
   "cell_type": "markdown",
   "metadata": {},
   "source": [
    "The impulse responses obtained with the sweep method were created with Matlab&reg;.\n",
    "Along with some additional information they are stored in MAT files.\n",
    "Luckily, SciPy [can load these kinds of files](http://docs.scipy.org/doc/scipy/reference/tutorial/io.html#matlab-files)  with the [scipy.io.loadmat()](http://docs.scipy.org/doc/scipy/reference/generated/scipy.io.loadmat.html) function (as long as a certain MAT-file-version is used)."
   ]
  },
  {
   "cell_type": "code",
   "execution_count": 1,
   "metadata": {
    "collapsed": true
   },
   "outputs": [],
   "source": [
    "from scipy.io import loadmat"
   ]
  },
  {
   "cell_type": "markdown",
   "metadata": {},
   "source": [
    "Make sure to use the options `struct_as_record=False` and `squeeze_me=True` when loading the MAT file.\n",
    "\n",
    "*Exercise:* Load the MAT file with the other BRIRs.\n",
    "How long (in seconds) are the impulse responses?"
   ]
  },
  {
   "cell_type": "code",
   "execution_count": null,
   "metadata": {
    "collapsed": true
   },
   "outputs": [],
   "source": []
  },
  {
   "cell_type": "markdown",
   "metadata": {},
   "source": [
    "The object returned by `scipy.io.loadmat()` is a bit strange ...\n",
    "\n",
    "It is like a `dict` object which has variable names as keys.\n",
    "In our case, there is only one variable named `'data'`, which you can access with\n",
    "\n",
    "    data = mat_contents['data']\n",
    "\n",
    "The `data` variable is a Matlab \"structure\" whose attributes you can access with the well-known dot-notation (but only if you used the argument `struct_as_record=False` as suggested above!).\n",
    "Use tab-completion (or `dir(data)`) to find out which attributes are available.\n",
    "\n",
    "For us, the most interesting attribute is `data.ir`, which holds the actual BRIR data as a two-dimensional NumPy array."
   ]
  },
  {
   "cell_type": "markdown",
   "metadata": {},
   "source": [
    "## Listening to the BRIRs\n",
    "\n",
    "As we saw (or rather *heard*) in the [previous unit](rir.ipynb), listening to the impulse responses directly doesn't tell us very much, but let's do it anyway!\n",
    "\n",
    "*Exercise:* Listen to the impulse responses.\n",
    "Do you hear a difference?\n",
    "\n",
    "You should use `tools.normalize()` (from [tools.py](tools.py)) on both IRs before playback to adjust their volume."
   ]
  },
  {
   "cell_type": "code",
   "execution_count": null,
   "metadata": {
    "collapsed": true
   },
   "outputs": [],
   "source": []
  },
  {
   "cell_type": "markdown",
   "metadata": {},
   "source": [
    "To get a clearer picture of the data, let's convolve the IRs with some signals!\n",
    "\n",
    "Note that in contrast to the previous unit, we now have to deal with two-channel impulse responses.\n",
    "\n",
    "*Exercise:* Load a mono signal (e.g. from [data/xmas.wav](data/xmas.wav)) and convolve it with both BRIRs.\n",
    "Do you hear a difference?\n",
    "\n",
    "Use `tools.normalize()` on the results to be able to compare them with appropriate levels."
   ]
  },
  {
   "cell_type": "code",
   "execution_count": null,
   "metadata": {
    "collapsed": true
   },
   "outputs": [],
   "source": []
  },
  {
   "cell_type": "markdown",
   "metadata": {},
   "source": [
    "## Headphone Compensation"
   ]
  },
  {
   "cell_type": "code",
   "execution_count": null,
   "metadata": {
    "collapsed": true
   },
   "outputs": [],
   "source": []
  },
  {
   "cell_type": "markdown",
   "metadata": {},
   "source": [
    "## Plotting the BRIRs"
   ]
  },
  {
   "cell_type": "code",
   "execution_count": null,
   "metadata": {
    "collapsed": true
   },
   "outputs": [],
   "source": []
  },
  {
   "cell_type": "markdown",
   "metadata": {},
   "source": [
    "## Multiple Head Orientations"
   ]
  },
  {
   "cell_type": "code",
   "execution_count": null,
   "metadata": {
    "collapsed": true
   },
   "outputs": [],
   "source": []
  },
  {
   "cell_type": "markdown",
   "metadata": {},
   "source": [
    "## Let's Watch a Video!\n",
    "\n",
    "http://www.gnuplotting.org/animation-iii-video-revisited/\n",
    "\n",
    "<video src=\"http://www.gnuplotting.org/video/hrir.webm\" controls loop>\n",
    "http://www.gnuplotting.org/video/hrir.webm\n",
    "</video>"
   ]
  },
  {
   "cell_type": "markdown",
   "metadata": {},
   "source": [
    "## Plotting Many Head Orientations"
   ]
  },
  {
   "cell_type": "code",
   "execution_count": null,
   "metadata": {
    "collapsed": true
   },
   "outputs": [],
   "source": []
  },
  {
   "cell_type": "markdown",
   "metadata": {},
   "source": [
    "## Solutions\n",
    "\n",
    "If you had problems solving some of the exercises, don't despair!\n",
    "Have a look at the [example solutions](brir-solutions.ipynb).\n",
    "\n",
    "<p xmlns:dct=\"http://purl.org/dc/terms/\">\n",
    "  <a rel=\"license\"\n",
    "     href=\"http://creativecommons.org/publicdomain/zero/1.0/\">\n",
    "    <img src=\"http://i.creativecommons.org/p/zero/1.0/88x31.png\" style=\"border-style: none;\" alt=\"CC0\" />\n",
    "  </a>\n",
    "  <br />\n",
    "  To the extent possible under law,\n",
    "  <span rel=\"dct:publisher\" resource=\"[_:publisher]\">the person who associated CC0</span>\n",
    "  with this work has waived all copyright and related or neighboring\n",
    "  rights to this work.\n",
    "</p>"
   ]
  }
 ],
 "metadata": {
  "kernelspec": {
   "display_name": "Python 3",
   "language": "python",
   "name": "python3"
  },
  "language_info": {
   "codemirror_mode": {
    "name": "ipython",
    "version": 3
   },
   "file_extension": ".py",
   "mimetype": "text/x-python",
   "name": "python",
   "nbconvert_exporter": "python",
   "pygments_lexer": "ipython3",
   "version": "3.4.3"
  }
 },
 "nbformat": 4,
 "nbformat_minor": 0
}
