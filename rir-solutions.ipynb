{
 "cells": [
  {
   "cell_type": "markdown",
   "metadata": {},
   "source": [
    "[exercises](rir.ipynb)"
   ]
  },
  {
   "cell_type": "markdown",
   "metadata": {},
   "source": [
    "Directly listening to a room impulse response (RIR) doesn't reveal much information (except probably for room acoustics experts).\n",
    "It's normally more helpful to use a bunch of dry recordings with different characteristics (speech, music, tonal, percussive, ...), convolve them with the given RIR and listen to the results."
   ]
  },
  {
   "cell_type": "code",
   "execution_count": 1,
   "metadata": {
    "collapsed": false
   },
   "outputs": [],
   "source": [
    "import numpy as np\n",
    "from scipy import signal\n",
    "import soundfile as sf\n",
    "import tools"
   ]
  },
  {
   "cell_type": "code",
   "execution_count": 2,
   "metadata": {
    "collapsed": true
   },
   "outputs": [],
   "source": [
    "speech, fs = sf.read(\"data/result.wav\", always_2d=False)\n",
    "rir, fs_rir = sf.read(\"data/rir_clap.wav\", always_2d=False)\n",
    "assert fs == fs_rir\n",
    "speech_clap = signal.fftconvolve(speech, rir)\n",
    "# normalize to the same maximum value as the original speech signal:\n",
    "speech_clap = tools.normalize(speech_clap, np.max(np.abs(speech)))\n",
    "sf.write(speech_clap, \"data/result_clap.wav\", fs)"
   ]
  },
  {
   "cell_type": "markdown",
   "metadata": {},
   "source": [
    "<audio src=\"data/result.wav\" controls></audio>\n",
    "[data/result.wav](data/result.wav)\n",
    "\n",
    "<audio src=\"data/rir_clap.wav\" controls></audio>\n",
    "[data/rir_clap.wav](data/rir_clap.wav)\n",
    "\n",
    "<audio src=\"data/result_clap.wav\" controls></audio>\n",
    "[data/result_clap.wav](data/result_clap.wav)\n",
    "\n",
    "It doesn't sound exactly like the measured room, because the frequency response of the clapping device is not flat and its characteristics are part of the measured RIR and therefore also audible in the convolved signal."
   ]
  },
  {
   "cell_type": "code",
   "execution_count": 3,
   "metadata": {
    "collapsed": false
   },
   "outputs": [
    {
     "name": "stdout",
     "output_type": "stream",
     "text": [
      "Using matplotlib backend: TkAgg\n"
     ]
    }
   ],
   "source": [
    "%matplotlib\n",
    "import matplotlib.pyplot as plt"
   ]
  },
  {
   "cell_type": "code",
   "execution_count": 4,
   "metadata": {
    "collapsed": false
   },
   "outputs": [],
   "source": [
    "t = np.arange(len(rir)) / fs\n",
    "plt.plot(t, rir)\n",
    "plt.xlabel(\"time / seconds\");"
   ]
  },
  {
   "cell_type": "code",
   "execution_count": 5,
   "metadata": {
    "collapsed": false
   },
   "outputs": [
    {
     "name": "stderr",
     "output_type": "stream",
     "text": [
      "/usr/local/lib/python3.4/dist-packages/IPython/kernel/__main__.py:3: RuntimeWarning: divide by zero encountered in log10\n",
      "  app.launch_new_instance()\n"
     ]
    }
   ],
   "source": [
    "plt.figure()\n",
    "# TODO: avoid division by zero:\n",
    "plt.plot(t, 20 * np.log10(np.abs(rir)))\n",
    "plt.xlabel(\"time / seconds\");"
   ]
  },
  {
   "cell_type": "code",
   "execution_count": 6,
   "metadata": {
    "collapsed": true
   },
   "outputs": [],
   "source": [
    "# TODO: implement plot_impulse_response()"
   ]
  },
  {
   "cell_type": "code",
   "execution_count": 7,
   "metadata": {
    "collapsed": true
   },
   "outputs": [],
   "source": [
    "import io\n",
    "import soundfile as sf\n",
    "import tools\n",
    "import zipfile"
   ]
  },
  {
   "cell_type": "code",
   "execution_count": 8,
   "metadata": {
    "collapsed": false
   },
   "outputs": [
    {
     "data": {
      "text/plain": [
       "48000"
      ]
     },
     "execution_count": 8,
     "metadata": {},
     "output_type": "execute_result"
    }
   ],
   "source": [
    "url = \"http://legacy.spa.aalto.fi/projects/poririrs/wavs/omni.zip\"\n",
    "filename = \"s1_r1_o.wav\"\n",
    "zf = zipfile.ZipFile(tools.HttpFile(url))\n",
    "pori, fs = sf.read(io.BytesIO(zf.read(filename)))\n",
    "assert pori.shape[1] == 2  # stereo IR\n",
    "pori = pori.sum(axis=1)\n",
    "fs"
   ]
  },
  {
   "cell_type": "code",
   "execution_count": 9,
   "metadata": {
    "collapsed": false
   },
   "outputs": [],
   "source": [
    "speech48k, fs48k = sf.read(\"data/result48k.wav\", always_2d=False)\n",
    "assert fs48k == 48000"
   ]
  },
  {
   "cell_type": "code",
   "execution_count": 10,
   "metadata": {
    "collapsed": false
   },
   "outputs": [],
   "source": [
    "speech_pori = signal.fftconvolve(speech48k, pori)\n",
    "speech_pori = tools.normalize(speech_pori, np.max(np.abs(speech)))"
   ]
  },
  {
   "cell_type": "code",
   "execution_count": 11,
   "metadata": {
    "collapsed": true
   },
   "outputs": [],
   "source": [
    "sf.write(speech_pori, \"data/result_pori.wav\", fs)"
   ]
  },
  {
   "cell_type": "markdown",
   "metadata": {},
   "source": [
    "<audio src=\"data/result.wav\" controls></audio>\n",
    "[data/result.wav](data/result.wav)\n",
    "\n",
    "<audio src=\"data/result_pori.wav\" controls></audio>\n",
    "[data/result_pori.wav](data/result_pori.wav)"
   ]
  },
  {
   "cell_type": "code",
   "execution_count": 12,
   "metadata": {
    "collapsed": false
   },
   "outputs": [],
   "source": [
    "t = np.arange(len(pori)) / fs\n",
    "plt.figure()\n",
    "plt.plot(t, pori)\n",
    "plt.xlabel(\"time / seconds\");"
   ]
  },
  {
   "cell_type": "code",
   "execution_count": 13,
   "metadata": {
    "collapsed": false
   },
   "outputs": [
    {
     "name": "stderr",
     "output_type": "stream",
     "text": [
      "/usr/local/lib/python3.4/dist-packages/IPython/kernel/__main__.py:3: RuntimeWarning: divide by zero encountered in log10\n",
      "  app.launch_new_instance()\n"
     ]
    }
   ],
   "source": [
    "# TODO: use custom plotting function\n",
    "plt.figure()\n",
    "plt.plot(t, 20 * np.log10(np.abs(pori)))\n",
    "plt.xlabel(\"time / seconds\");"
   ]
  },
  {
   "cell_type": "markdown",
   "metadata": {},
   "source": [
    "<p xmlns:dct=\"http://purl.org/dc/terms/\">\n",
    "  <a rel=\"license\"\n",
    "     href=\"http://creativecommons.org/publicdomain/zero/1.0/\">\n",
    "    <img src=\"http://i.creativecommons.org/p/zero/1.0/88x31.png\" style=\"border-style: none;\" alt=\"CC0\" />\n",
    "  </a>\n",
    "  <br />\n",
    "  To the extent possible under law,\n",
    "  <span rel=\"dct:publisher\" resource=\"[_:publisher]\">the person who associated CC0</span>\n",
    "  with this work has waived all copyright and related or neighboring\n",
    "  rights to this work.\n",
    "</p>"
   ]
  }
 ],
 "metadata": {
  "kernelspec": {
   "display_name": "Python 3",
   "language": "python",
   "name": "python3"
  },
  "language_info": {
   "codemirror_mode": {
    "name": "ipython",
    "version": 3
   },
   "file_extension": ".py",
   "mimetype": "text/x-python",
   "name": "python",
   "nbconvert_exporter": "python",
   "pygments_lexer": "ipython3",
   "version": "3.4.3"
  }
 },
 "nbformat": 4,
 "nbformat_minor": 0
}
