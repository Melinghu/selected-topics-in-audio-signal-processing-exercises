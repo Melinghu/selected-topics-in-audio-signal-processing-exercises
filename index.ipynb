{
 "cells": [
  {
   "cell_type": "markdown",
   "metadata": {},
   "source": [
    "# Selected Topics in Audio Signal Processing - Exercises\n",
    "\n",
    "This is the main page for the exercises accompanying the lecture \"Selected Topics in Audio Signal Processing\" at [Institute of Communications Engineering](http://www.int.uni-rostock.de/)/[Faculty of Computer Science and Electrical Engineering](http://www.ief.uni-rostock.de/)/[University of Rostock](http://www.uni-rostock.de/).\n",
    "\n",
    "Registered students can access course details via [StudIP](https://studip.uni-rostock.de/dispatch.php/course/overview?cid=d5c4067c02bb446300d90ba54e5eb1fb) and [LSF](https://lsf.uni-rostock.de/qisserver/rds?state=verpublish&status=init&vmfile=no&moduleCall=webInfo&publishConfFile=webInfo&publishSubDir=veranstaltung&veranstaltung.veranstid=83421).\n",
    "\n",
    "The lectures/exercises are held each winter semester, starting in 2015.\n",
    "\n",
    "The notebooks and all additional files should be considered as [Open Educational Resources](https://en.wikipedia.org/wiki/Open_educational_resources)."
   ]
  },
  {
   "cell_type": "markdown",
   "metadata": {},
   "source": [
    "The exercises are split into the following units.\n",
    "Most of them build upon knowledge from previous units, so you should do them in order:\n",
    "\n",
    "1. [Introduction to Python et al., Working with Audio Signals](intro.ipynb)\n"
   ]
  },
  {
   "cell_type": "markdown",
   "metadata": {},
   "source": [
    "## Getting Started\n",
    "\n",
    "The Jupyter notebooks for each topic are available as [static web pages](http://nbviewer.jupyter.org/github/spatialaudio/selected-topics-in-audio-signal-processing-exercises/) as well as for interactive use with [Jupyter](http://jupyter.org/) (formerly known as [IPython](http://ipython.org/)), to be [downloaded from Github](http://github.com/spatialaudio/selected-topics-in-audio-signal-processing-exercises).\n",
    "\n",
    "### Install Python\n",
    "\n",
    "Make sure you always use Python 3!\n",
    "\n",
    "If you don't have Python installed already, you should download and install a Python distribution which already includes all the libraries we'll need, e.g. [Anaconda](https://www.continuum.io/downloads) (make sure to choose Python version 3.x).\n",
    "\n",
    "If you're using Linux (Debian/Ubuntu/...), you can use the following commands to install the necessary packages:\n",
    "\n",
    "    sudo apt-get update\n",
    "    sudo apt-get install python3 python3-pip python3-numpy python3-scipy python3-matplotlib python3-cffi libsndfile1 libportaudio2\n",
    "\n",
    "### Get the Notebooks and Start Jupyter\n",
    "\n",
    "Use [Git](http://git-scm.org/) to download the files (or download the [zip file](https://github.com/spatialaudio/selected-topics-in-audio-signal-processing-exercises/archive/master.zip)), use the Python package management system [pip](http://www.pip-installer.org/) to install a few Python libraries that we will use and then start the Jupyter notebook:\n",
    "\n",
    "    git clone https://github.com/spatialaudio/selected-topics-in-audio-signal-processing-exercises.git\n",
    "    cd selected-topics-in-audio-signal-processing-exercises\n",
    "    python3 -m pip install -r requirements.txt --user\n",
    "    python3 -m notebook\n",
    "    \n",
    "This will open a new view in your web browser with a list of notebooks.\n",
    "Click on [intro.ipynb](intro.ipynb) (or any of the other available notebooks) and enjoy!\n",
    "If you are new to Git, have a look at this [introduction to Git](http://mg.rtfd.org/git.html).\n",
    "\n",
    "Alternatively, you can also download individual notebook files (with the extension `.ipynb`) and open them in IPython.\n",
    "Note that some exercises make use of additional files (audio files etc.) which you'll then also have to download manually.\n",
    "\n"
   ]
  },
  {
   "cell_type": "markdown",
   "metadata": {},
   "source": [
    "## Interactive Online Version\n",
    "\n",
    "If you don't feel like installing Jupyter/IPython, but still want to try out the notebooks, you can [![Binder](http://mybinder.org/badge.svg)](http://mybinder.org/repo/spatialaudio/selected-topics-in-audio-signal-processing-exercises) and start playing around immediately.\n",
    "\n",
    "Note, however, that your changes will not be preserved.\n",
    "Once you close your browser, everything will be lost!"
   ]
  },
  {
   "cell_type": "markdown",
   "metadata": {},
   "source": [
    "## Copyright Information\n",
    "\n",
    "<p xmlns:dct=\"http://purl.org/dc/terms/\">\n",
    "  <a rel=\"license\"\n",
    "     href=\"http://creativecommons.org/publicdomain/zero/1.0/\">\n",
    "    <img src=\"http://i.creativecommons.org/p/zero/1.0/88x31.png\" style=\"border-style: none;\" alt=\"CC0\" />\n",
    "  </a>\n",
    "  <br />\n",
    "  To the extent possible under law,\n",
    "  <span rel=\"dct:publisher\" resource=\"[_:publisher]\">the person who associated CC0</span>\n",
    "  with this work has waived all copyright and related or neighboring\n",
    "  rights to this work.\n",
    "</p>"
   ]
  }
 ],
 "metadata": {
  "kernelspec": {
   "display_name": "Python 3",
   "language": "python",
   "name": "python3"
  },
  "language_info": {
   "codemirror_mode": {
    "name": "ipython",
    "version": 3
   },
   "file_extension": ".py",
   "mimetype": "text/x-python",
   "name": "python",
   "nbconvert_exporter": "python",
   "pygments_lexer": "ipython3",
   "version": "3.5.2"
  }
 },
 "nbformat": 4,
 "nbformat_minor": 0
}
