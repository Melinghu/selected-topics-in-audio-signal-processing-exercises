{
 "cells": [
  {
   "cell_type": "markdown",
   "metadata": {},
   "source": [
    "# Communication Acoustics - Exercises\n",
    "\n",
    "This repository holds some IPython notebooks which are part of the course material for the exercises accompanying the lecture \"Acoustics for Communications\" (in German \"Kommunikationsakustik\") at [Institute of Communications Engineering](http://www.int.uni-rostock.de/)/[Faculty of Computer Science and Electrical Engineering](http://www.ief.uni-rostock.de/)/[University of Rostock](http://www.uni-rostock.de/).\n",
    "\n",
    "Registered students can access course details via [StudIP](https://studip.uni-rostock.de/seminar_main.php?auswahl=abf68467388b79614601208604a08aa7) and [LSF](https://lsf.uni-rostock.de/qisserver/rds?state=verpublish&publishid=67741&moduleCall=webInfo&publishConfFile=webInfo&publishSubDir=veranstaltung).\n",
    "\n",
    "The lectures/exercises are held each summer semester, starting in 2015."
   ]
  },
  {
   "cell_type": "markdown",
   "metadata": {},
   "source": [
    "The exercises are split into the following units.\n",
    "Most of them build upon knowledge from previous units, so you should do them in order:\n",
    "\n",
    "1. [Introduction to Python et al., Working with Audio Signals](intro.ipynb)\n",
    "\n",
    "1. [Discrete Fourier Transform](dft.ipynb)\n",
    "\n",
    "1. [Impulse Responses, Convolution](ir.ipynb)\n",
    "\n",
    "1. [Room Impulse Responses](rir.ipynb)\n",
    "\n",
    "1. [Binaural Room Impulse Responses (BRIRs)](brir.ipynb), part 1\n",
    "\n",
    "1. BRIRs, part 2 (second half of the [previous notebook](brir.ipynb))\n",
    "\n",
    "1. Listening Tests (no notebook available)\n",
    "\n",
    "1. Binaural Hearing (no notebook available)\n",
    "\n",
    "1. [Audio Reproduction with Loudspeakers](reproduction.ipynb)\n",
    "\n",
    "1. Loudspeaker Demonstration (no notebook available)\n",
    "\n",
    "1. Stereophonic Recording Techniques\n",
    "\n",
    "1. Speech, Source-Filter Model\n",
    "\n",
    "1. Revision"
   ]
  },
  {
   "cell_type": "markdown",
   "metadata": {},
   "source": [
    "## Getting Started\n",
    "\n",
    "The IPython notebooks for each topic are available as [static web pages](http://nbviewer.ipython.org/github/spatialaudio/communication-acoustics-exercises/) as well as for interactive use with [IPython](http://ipython.org/), to be [downloaded from Github](http://github.com/spatialaudio/communication-acoustics-exercises).\n",
    "\n",
    "Use [Git](http://git-scm.org/) to download the files and then start the IPython notebook:\n",
    "\n",
    "    git clone https://github.com/spatialaudio/communication-acoustics-exercises.git\n",
    "    cd communication-acoustics-exercises\n",
    "    ipython3 notebook\n",
    "    \n",
    "This will open a new view in your web browser with a list of notebooks.\n",
    "Click on [intro.ipynb](intro.ipynb) (or any of the other available notebooks) and enjoy!\n",
    "\n",
    "Alternatively, you can also download individual notebook files (with the extension `.ipynb`) and open them in IPython.\n",
    "Note that some exercises make use of additional files (audio files etc.) which you'll then also have to download manually.\n",
    "\n",
    "Make sure you always use Python 3!"
   ]
  },
  {
   "cell_type": "markdown",
   "metadata": {},
   "source": [
    "## External Link(s)\n",
    "\n",
    "At Aalto University, Ville Pulkki gives a lecture called \"Communication Acoustics\" which is also available as a book (ISBN: 978-1-118-86654-2).\n",
    "The lecture slides and some other materials including audio examples are available at http://users.aalto.fi/~vpulkki/Communication_Acoustics/."
   ]
  },
  {
   "cell_type": "markdown",
   "metadata": {},
   "source": [
    "## Copyright Information\n",
    "\n",
    "<p xmlns:dct=\"http://purl.org/dc/terms/\">\n",
    "  <a rel=\"license\"\n",
    "     href=\"http://creativecommons.org/publicdomain/zero/1.0/\">\n",
    "    <img src=\"http://i.creativecommons.org/p/zero/1.0/88x31.png\" style=\"border-style: none;\" alt=\"CC0\" />\n",
    "  </a>\n",
    "  <br />\n",
    "  To the extent possible under law,\n",
    "  <span rel=\"dct:publisher\" resource=\"[_:publisher]\">the person who associated CC0</span>\n",
    "  with this work has waived all copyright and related or neighboring\n",
    "  rights to this work.\n",
    "</p>"
   ]
  }
 ],
 "metadata": {
  "kernelspec": {
   "display_name": "Python 3",
   "language": "python",
   "name": "python3"
  },
  "language_info": {
   "codemirror_mode": {
    "name": "ipython",
    "version": 3
   },
   "file_extension": ".py",
   "mimetype": "text/x-python",
   "name": "python",
   "nbconvert_exporter": "python",
   "pygments_lexer": "ipython3",
   "version": "3.4.3+"
  }
 },
 "nbformat": 4,
 "nbformat_minor": 0
}
