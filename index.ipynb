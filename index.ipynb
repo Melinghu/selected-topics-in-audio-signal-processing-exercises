{
 "cells": [
  {
   "cell_type": "markdown",
   "metadata": {},
   "source": [
    "# Selected Topics in Audio Signal Processing - Exercises\n",
    "\n",
    "This is the main page for the exercises accompanying the lecture \"Selected Topics in Audio Signal Processing\" at [Institute of Communications Engineering](http://www.int.uni-rostock.de/)/[Faculty of Computer Science and Electrical Engineering](http://www.ief.uni-rostock.de/)/[University of Rostock](http://www.uni-rostock.de/).\n",
    "\n",
    "Registered students can access course details via [StudIP](https://studip.uni-rostock.de/dispatch.php/course/overview?cid=7cbb6ba4d7b87f972da54c5c9f4529d6) and [LSF](https://lsf.uni-rostock.de/qisserver/rds?state=verpublish&status=init&vmfile=no&publishid=72644&moduleCall=webInfo&publishConfFile=webInfo&publishSubDir=veranstaltung).\n",
    "\n",
    "The lectures/exercises are held each winter semester, starting in 2015.\n",
    "\n",
    "In its first incarnation starting October 2015, we will re-use several exercises from the course [Communication Acoustics](http://nbviewer.ipython.org/github/spatialaudio/communication-acoustics-exercises/blob/master/index.ipynb)."
   ]
  },
  {
   "cell_type": "markdown",
   "metadata": {},
   "source": [
    "The exercises are split into the following units.\n",
    "Most of them build upon knowledge from previous units, so you should do them in order:\n",
    "\n",
    "1. [Introduction to Python et al., Working with Audio Signals](http://nbviewer.ipython.org/github/spatialaudio/communication-acoustics-exercises/blob/master/intro.ipynb)\n",
    "\n",
    "1. [Discrete Fourier Transform](http://nbviewer.ipython.org/github/spatialaudio/communication-acoustics-exercises/blob/master/dft.ipynb)\n",
    "\n",
    "1. Impulse Responses, Convolution\n",
    "\n",
    "1. Room Impulse Responses\n",
    "\n",
    "1. Binaural Room Impulse Responses (BRIRs)\n",
    "\n",
    "1. ...\n",
    "\n",
    "1. ... and more to come ..."
   ]
  },
  {
   "cell_type": "markdown",
   "metadata": {},
   "source": [
    "## Getting Started\n",
    "\n",
    "See [Getting Started](http://nbviewer.ipython.org/github/spatialaudio/communication-acoustics-exercises/blob/master/index.ipynb#Getting-Started)."
   ]
  },
  {
   "cell_type": "markdown",
   "metadata": {},
   "source": [
    "## Copyright Information\n",
    "\n",
    "<p xmlns:dct=\"http://purl.org/dc/terms/\">\n",
    "  <a rel=\"license\"\n",
    "     href=\"http://creativecommons.org/publicdomain/zero/1.0/\">\n",
    "    <img src=\"http://i.creativecommons.org/p/zero/1.0/88x31.png\" style=\"border-style: none;\" alt=\"CC0\" />\n",
    "  </a>\n",
    "  <br />\n",
    "  To the extent possible under law,\n",
    "  <span rel=\"dct:publisher\" resource=\"[_:publisher]\">the person who associated CC0</span>\n",
    "  with this work has waived all copyright and related or neighboring\n",
    "  rights to this work.\n",
    "</p>"
   ]
  }
 ],
 "metadata": {
  "kernelspec": {
   "display_name": "Python 3",
   "language": "python",
   "name": "python3"
  },
  "language_info": {
   "codemirror_mode": {
    "name": "ipython",
    "version": 3
   },
   "file_extension": ".py",
   "mimetype": "text/x-python",
   "name": "python",
   "nbconvert_exporter": "python",
   "pygments_lexer": "ipython3",
   "version": "3.4.3+"
  }
 },
 "nbformat": 4,
 "nbformat_minor": 0
}
